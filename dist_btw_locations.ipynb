{
 "cells": [
  {
   "cell_type": "code",
   "execution_count": 28,
   "metadata": {},
   "outputs": [],
   "source": [
    "import pandas as pd\n",
    "from geopy.distance import great_circle"
   ]
  },
  {
   "cell_type": "code",
   "execution_count": 10,
   "metadata": {
    "collapsed": true
   },
   "outputs": [],
   "source": [
    "locs = pd.read_pickle('data/turns_data_locations.pkl')"
   ]
  },
  {
   "cell_type": "code",
   "execution_count": 11,
   "metadata": {
    "collapsed": true
   },
   "outputs": [],
   "source": [
    "locs = locs[['station', 'GTFS Latitude', 'GTFS Longitude']]\n",
    "\n",
    "newlocs = locs.groupby('station', as_index=False)\n",
    "\n",
    "station_list = newlocs.head(1).dropna()"
   ]
  },
  {
   "cell_type": "code",
   "execution_count": 103,
   "metadata": {
    "collapsed": true
   },
   "outputs": [],
   "source": [
    "def distance(df, lat, long, name):\n",
    "\n",
    "    lat_lst = list(df[lat])\n",
    "    long_lst = list(df[long])\n",
    "    combined = list(zip(lat_lst, long_lst))\n",
    "\n",
    "    name_lst = list(df[name])\n",
    "    bound = list(zip(name_lst, combined))\n",
    "\n",
    "    distance_lst = []\n",
    "\n",
    "    for index, name in enumerate(bound):\n",
    "        for other in bound[index+1:]:\n",
    "            distance = great_circle(name[1], other[1]).miles\n",
    "            if distance < 0.15:\n",
    "                distance_lst.append([name[0], other[0], distance])\n",
    "                \n",
    "    return distance_lst"
   ]
  },
  {
   "cell_type": "code",
   "execution_count": 104,
   "metadata": {},
   "outputs": [
    {
     "data": {
      "text/plain": [
       "[['4AV-9 ST', '4 AV-9 ST', 0.08702740135794049],\n",
       " ['BLEECKER ST', \"B'WAY-LAFAYETTE\", 0.09150214930126264],\n",
       " ['BROAD ST', 'WALL ST', 0.10521523800847063],\n",
       " ['JKSN HT-ROOSVLT', '74 ST-BROADWAY', 0.014400681368660274],\n",
       " ['BOWLING GREEN', 'WHITEHALL S-FRY', 0.13207784981713222],\n",
       " ['PARK PLACE', 'GRD CNTRL-42 ST', 0.1404706733218544],\n",
       " ['COURT SQ', 'COURT SQ-23 ST', 0.14442707850489125],\n",
       " ['36 ST', 'BEACH 36 ST', 0.0],\n",
       " ['59 ST', 'LEXINGTON AV/63', 0.14869782985037014],\n",
       " ['57 ST-7 AV', '7 AV', 0.13467297379482698],\n",
       " ['14 ST', '14TH STREET', 0.0],\n",
       " ['CORTLANDT ST', 'WORLD TRADE CTR', 0.14755680356750636],\n",
       " ['ASTOR PL', '8 ST-NYU', 0.08381679191369015],\n",
       " ['5 AVE', '42 ST-BRYANT PK', 0.13922156927313403],\n",
       " ['AQUEDUCT N.COND', 'AQUEDUCT RACETR', 0.0],\n",
       " ['BAY RIDGE AV', 'BAY RIDGE-95 ST', 0.0],\n",
       " ['BROOKLYN BRIDGE', 'CITY HALL', 0.1498962805538746],\n",
       " ['PRINCE ST', \"B'WAY-LAFAYETTE\", 0.10311118860489044],\n",
       " ['HOYT-SCHER', 'HOYT ST', 0.14248094211226892],\n",
       " ['LIVONIA AV', 'JUNIUS ST', 0.10478174557567468],\n",
       " ['NASSAU ST', 'NASSAU AV', 0.0],\n",
       " ['21 ST', 'HUNTERS PT AV', 0.13461142153837444]]"
      ]
     },
     "execution_count": 104,
     "metadata": {},
     "output_type": "execute_result"
    }
   ],
   "source": [
    "distance(station_list, 'GTFS Latitude', 'GTFS Longitude', 'station')"
   ]
  },
  {
   "cell_type": "code",
   "execution_count": null,
   "metadata": {
    "collapsed": true
   },
   "outputs": [],
   "source": []
  }
 ],
 "metadata": {
  "kernelspec": {
   "display_name": "Python 3",
   "language": "python",
   "name": "python3"
  },
  "language_info": {
   "codemirror_mode": {
    "name": "ipython",
    "version": 3
   },
   "file_extension": ".py",
   "mimetype": "text/x-python",
   "name": "python",
   "nbconvert_exporter": "python",
   "pygments_lexer": "ipython3",
   "version": "3.6.3"
  }
 },
 "nbformat": 4,
 "nbformat_minor": 2
}
