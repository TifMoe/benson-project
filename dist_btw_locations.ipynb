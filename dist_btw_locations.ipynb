{
 "cells": [
  {
   "cell_type": "code",
   "execution_count": 1,
   "metadata": {
    "collapsed": true
   },
   "outputs": [],
   "source": [
    "import pandas as pd\n",
    "from geopy.distance import great_circle"
   ]
  },
  {
   "cell_type": "code",
   "execution_count": 2,
   "metadata": {
    "collapsed": true
   },
   "outputs": [],
   "source": [
    "locs = pd.read_pickle('data/turns_data_locations.pkl')"
   ]
  },
  {
   "cell_type": "code",
   "execution_count": 3,
   "metadata": {
    "collapsed": true
   },
   "outputs": [],
   "source": [
    "locs = locs[['station', 'GTFS Latitude', 'GTFS Longitude']]\n",
    "\n",
    "newlocs = locs.groupby('station', as_index=False)\n",
    "\n",
    "station_list = newlocs.head(1).dropna()"
   ]
  },
  {
   "cell_type": "code",
   "execution_count": 8,
   "metadata": {
    "collapsed": true
   },
   "outputs": [],
   "source": [
    "def distance(df, lat, long, name):\n",
    "\n",
    "    lat_lst = list(df[lat])\n",
    "    long_lst = list(df[long])\n",
    "    combined = list(zip(lat_lst, long_lst))\n",
    "\n",
    "    name_lst = list(df[name])\n",
    "    bound = list(zip(name_lst, combined))\n",
    "\n",
    "    distance_lst = []\n",
    "\n",
    "    for index, name in enumerate(bound):\n",
    "        for other in bound[index+1:]:\n",
    "            distance = great_circle(name[1], other[1]).miles\n",
    "            if distance < 0.2:\n",
    "                distance_lst.append([name[0], other[0], distance])\n",
    "                \n",
    "    return distance_lst"
   ]
  },
  {
   "cell_type": "code",
   "execution_count": 9,
   "metadata": {},
   "outputs": [
    {
     "data": {
      "text/plain": [
       "[['14 ST', '8 AV', 0.18350882545065278],\n",
       " ['14 ST', '14TH STREET', 0.0],\n",
       " ['14 ST', '6 AV', 0.1820251281209966],\n",
       " ['57 ST-7 AV', '7 AV', 0.13467297379482698],\n",
       " ['57 ST-7 AV', '57 ST', 0.1746042059600833],\n",
       " ['JUNIUS ST', 'LIVONIA AV', 0.10478174557573966],\n",
       " ['CHAMBERS ST', 'CITY HALL', 0.10183151838121567],\n",
       " ['CHAMBERS ST', 'PARK PLACE', 0.07421004582804731],\n",
       " ['CHAMBERS ST', 'WORLD TRADE CTR', 0.1228511381723752],\n",
       " ['59 ST', 'LEXINGTON AV/63', 0.14869782985037014],\n",
       " ['ASTOR PL', '8 ST-NYU', 0.08381679191369015],\n",
       " ['WALL ST', 'BROAD ST', 0.1052152380084332],\n",
       " [\"B'WAY-LAFAYETTE\", 'PRINCE ST', 0.10311118860487281],\n",
       " [\"B'WAY-LAFAYETTE\", 'BLEECKER ST', 0.09150214930134516],\n",
       " ['NASSAU ST', 'NASSAU AV', 0.0],\n",
       " ['CLARK ST', 'HIGH ST', 0.18612934044376395],\n",
       " ['51 ST', 'LEXINGTON AV/53', 0.15310823836042609],\n",
       " ['JAY ST-METROTEC', 'BOROUGH HALL', 0.1519168377311881],\n",
       " ['JAY ST-METROTEC', 'HOYT ST', 0.17202879405721125],\n",
       " ['RECTOR ST', 'BROAD ST', 0.15983963964120507],\n",
       " ['RECTOR ST', 'BOWLING GREEN', 0.18691292490039815],\n",
       " ['49 ST', '50 ST', 0.12717840277879197],\n",
       " ['49 ST', '47-50 STS ROCK', 0.17017735808670287],\n",
       " ['50 ST', '7 AV', 0.13982324022003553],\n",
       " ['TIMES SQ-42 ST', '42 ST-BRYANT PK', 0.17004264327042976],\n",
       " ['TIMES SQ-42 ST', '42 ST-PORT AUTH', 0.18221941743299444],\n",
       " ['WHITEHALL S-FRY', 'BOWLING GREEN', 0.13207784981722018],\n",
       " ['8 AV', '14TH STREET', 0.1835088254507141],\n",
       " ['ATL AV-BARCLAY', 'LAFAYETTE AV', 0.1919818380591103],\n",
       " ['PRINCE ST', 'BLEECKER ST', 0.1934373448695991],\n",
       " ['14TH STREET', '6 AV', 0.1820251281209966],\n",
       " ['42 ST-BRYANT PK', '5 AVE', 0.13922156927315357],\n",
       " ['CITY HALL', 'BROOKLYN BRIDGE', 0.14989628055387327],\n",
       " ['CITY HALL', 'PARK PLACE', 0.09734244344068535],\n",
       " ['CITY HALL', 'WORLD TRADE CTR', 0.15460403659741015],\n",
       " ['HOUSTON ST', 'SPRING ST', 0.16382334031120388],\n",
       " ['4 AV-9 ST', '4AV-9 ST', 0.08702740135800663],\n",
       " ['HOYT-SCHER', 'HOYT ST', 0.14248094211226892],\n",
       " ['HUNTERS PT AV', '21 ST', 0.13461142153833577],\n",
       " ['176 ST', '174-175 STS', 0.19826375124108261],\n",
       " ['PARK PLACE', 'WORLD TRADE CTR', 0.06027300264505727],\n",
       " ['BOWERY', 'GRAND ST', 0.13938260255193513],\n",
       " ['BAY RIDGE-95 ST', 'BAY RIDGE AV', 0.0],\n",
       " ['BROAD ST', 'BOWLING GREEN', 0.19493472828512035],\n",
       " ['CORTLANDT ST', 'WORLD TRADE CTR', 0.14755680356750636],\n",
       " ['AQUEDUCT RACETR', 'AQUEDUCT N.COND', 0.0],\n",
       " ['36 ST', 'BEACH 36 ST', 0.0],\n",
       " ['COURT SQ', 'COURT SQ-23 ST', 0.06870502752998578],\n",
       " ['JKSN HT-ROOSVLT', '74 ST-BROADWAY', 0.014400681368660274]]"
      ]
     },
     "execution_count": 9,
     "metadata": {},
     "output_type": "execute_result"
    }
   ],
   "source": [
    "distance(station_list, 'GTFS Latitude', 'GTFS Longitude', 'station')"
   ]
  },
  {
   "cell_type": "code",
   "execution_count": null,
   "metadata": {
    "collapsed": true
   },
   "outputs": [],
   "source": []
  }
 ],
 "metadata": {
  "kernelspec": {
   "display_name": "Python 3",
   "language": "python",
   "name": "python3"
  },
  "language_info": {
   "codemirror_mode": {
    "name": "ipython",
    "version": 3
   },
   "file_extension": ".py",
   "mimetype": "text/x-python",
   "name": "python",
   "nbconvert_exporter": "python",
   "pygments_lexer": "ipython3",
   "version": "3.6.3"
  },
  "toc": {
   "nav_menu": {},
   "number_sections": true,
   "sideBar": true,
   "skip_h1_title": false,
   "toc_cell": false,
   "toc_position": {},
   "toc_section_display": "block",
   "toc_window_display": false
  }
 },
 "nbformat": 4,
 "nbformat_minor": 2
}
