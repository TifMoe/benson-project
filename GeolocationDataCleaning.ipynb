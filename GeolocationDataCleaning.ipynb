{
 "cells": [
  {
   "cell_type": "markdown",
   "metadata": {},
   "source": [
    "# Plot the stations"
   ]
  },
  {
   "cell_type": "markdown",
   "metadata": {},
   "source": [
    "## Install Libraries"
   ]
  },
  {
   "cell_type": "code",
<<<<<<< HEAD
   "execution_count": 8,
=======
   "execution_count": 14,
>>>>>>> 77fa8c85cd0219cf209429b2ede88a41596a45cc
   "metadata": {
    "collapsed": true
   },
   "outputs": [],
   "source": [
    "import pandas as pd\n",
    "import numpy as np\n",
    "import geopandas as gpd\n",
    "import mpl_toolkits as mpl\n",
    "import pyproj as proj\n",
    "from shapely import geometry\n",
    "import folium\n",
    "\n",
    "%matplotlib inline"
   ]
  },
  {
   "cell_type": "markdown",
   "metadata": {},
   "source": [
    "## Read in turnstile data with location info"
   ]
  },
  {
   "cell_type": "code",
<<<<<<< HEAD
   "execution_count": null,
=======
   "execution_count": 2,
>>>>>>> 77fa8c85cd0219cf209429b2ede88a41596a45cc
   "metadata": {
    "collapsed": true
   },
   "outputs": [],
   "source": [
    "turns = pd.read_pickle('data/turns_data_locations.pkl')"
   ]
  },
  {
   "cell_type": "code",
   "execution_count": 3,
   "metadata": {},
   "outputs": [
    {
     "data": {
      "text/html": [
       "<div>\n",
       "<style scoped>\n",
       "    .dataframe tbody tr th:only-of-type {\n",
       "        vertical-align: middle;\n",
       "    }\n",
       "\n",
       "    .dataframe tbody tr th {\n",
       "        vertical-align: top;\n",
       "    }\n",
       "\n",
       "    .dataframe thead th {\n",
       "        text-align: right;\n",
       "    }\n",
       "</style>\n",
       "<table border=\"1\" class=\"dataframe\">\n",
       "  <thead>\n",
       "    <tr style=\"text-align: right;\">\n",
       "      <th></th>\n",
       "      <th>c/a</th>\n",
       "      <th>unit</th>\n",
       "      <th>scp</th>\n",
       "      <th>station</th>\n",
       "      <th>linename</th>\n",
       "      <th>division</th>\n",
       "      <th>date</th>\n",
       "      <th>time</th>\n",
       "      <th>desc</th>\n",
       "      <th>entries</th>\n",
       "      <th>...</th>\n",
       "      <th>GTFS Stop ID</th>\n",
       "      <th>Division</th>\n",
       "      <th>Line</th>\n",
       "      <th>Stop Name</th>\n",
       "      <th>Borough</th>\n",
       "      <th>Daytime Routes</th>\n",
       "      <th>Structure</th>\n",
       "      <th>GTFS Latitude</th>\n",
       "      <th>GTFS Longitude</th>\n",
       "      <th>station_id</th>\n",
       "    </tr>\n",
       "  </thead>\n",
       "  <tbody>\n",
       "    <tr>\n",
       "      <th>0</th>\n",
<<<<<<< HEAD
       "      <td>N605</td>\n",
       "      <td>R024</td>\n",
       "      <td>00-06-00</td>\n",
       "      <td>SUTPHIN-ARCHER</td>\n",
       "      <td>EJZ</td>\n",
       "      <td>IND</td>\n",
       "      <td>03/25/2017</td>\n",
       "      <td>04:00:00</td>\n",
       "      <td>REGULAR</td>\n",
       "      <td>4244004</td>\n",
       "      <td>...</td>\n",
       "      <td>257.0</td>\n",
       "      <td>F04</td>\n",
       "      <td>IND</td>\n",
       "      <td>Queens - Archer</td>\n",
       "      <td>Sutphin Blvd</td>\n",
       "      <td>Q</td>\n",
       "      <td>F</td>\n",
       "      <td>Subway</td>\n",
       "      <td>40.70546</td>\n",
       "      <td>-73.810708</td>\n",
       "    </tr>\n",
       "    <tr>\n",
       "      <th>1</th>\n",
       "      <td>N605</td>\n",
       "      <td>R024</td>\n",
       "      <td>00-06-00</td>\n",
       "      <td>SUTPHIN-ARCHER</td>\n",
       "      <td>EJZ</td>\n",
       "      <td>IND</td>\n",
       "      <td>03/25/2017</td>\n",
       "      <td>08:00:00</td>\n",
       "      <td>REGULAR</td>\n",
       "      <td>4244290</td>\n",
       "      <td>...</td>\n",
       "      <td>257.0</td>\n",
       "      <td>F04</td>\n",
       "      <td>IND</td>\n",
       "      <td>Queens - Archer</td>\n",
       "      <td>Sutphin Blvd</td>\n",
       "      <td>Q</td>\n",
       "      <td>F</td>\n",
       "      <td>Subway</td>\n",
       "      <td>40.70546</td>\n",
       "      <td>-73.810708</td>\n",
       "    </tr>\n",
       "    <tr>\n",
       "      <th>2</th>\n",
       "      <td>N605</td>\n",
       "      <td>R024</td>\n",
       "      <td>00-06-00</td>\n",
       "      <td>SUTPHIN-ARCHER</td>\n",
       "      <td>EJZ</td>\n",
       "      <td>IND</td>\n",
       "      <td>03/25/2017</td>\n",
       "      <td>12:00:00</td>\n",
       "      <td>REGULAR</td>\n",
       "      <td>4244663</td>\n",
       "      <td>...</td>\n",
       "      <td>257.0</td>\n",
       "      <td>F04</td>\n",
       "      <td>IND</td>\n",
       "      <td>Queens - Archer</td>\n",
       "      <td>Sutphin Blvd</td>\n",
       "      <td>Q</td>\n",
       "      <td>F</td>\n",
       "      <td>Subway</td>\n",
       "      <td>40.70546</td>\n",
       "      <td>-73.810708</td>\n",
       "    </tr>\n",
       "    <tr>\n",
       "      <th>3</th>\n",
       "      <td>N605</td>\n",
       "      <td>R024</td>\n",
       "      <td>00-06-00</td>\n",
       "      <td>SUTPHIN-ARCHER</td>\n",
       "      <td>EJZ</td>\n",
       "      <td>IND</td>\n",
       "      <td>03/25/2017</td>\n",
       "      <td>16:00:00</td>\n",
       "      <td>REGULAR</td>\n",
       "      <td>4245011</td>\n",
       "      <td>...</td>\n",
       "      <td>257.0</td>\n",
       "      <td>F04</td>\n",
       "      <td>IND</td>\n",
       "      <td>Queens - Archer</td>\n",
       "      <td>Sutphin Blvd</td>\n",
       "      <td>Q</td>\n",
       "      <td>F</td>\n",
       "      <td>Subway</td>\n",
       "      <td>40.70546</td>\n",
       "      <td>-73.810708</td>\n",
       "    </tr>\n",
       "    <tr>\n",
       "      <th>4</th>\n",
       "      <td>N605</td>\n",
       "      <td>R024</td>\n",
       "      <td>00-06-00</td>\n",
       "      <td>SUTPHIN-ARCHER</td>\n",
       "      <td>EJZ</td>\n",
       "      <td>IND</td>\n",
       "      <td>03/25/2017</td>\n",
       "      <td>20:00:00</td>\n",
       "      <td>REGULAR</td>\n",
       "      <td>4245314</td>\n",
       "      <td>...</td>\n",
       "      <td>257.0</td>\n",
       "      <td>F04</td>\n",
       "      <td>IND</td>\n",
       "      <td>Queens - Archer</td>\n",
       "      <td>Sutphin Blvd</td>\n",
       "      <td>Q</td>\n",
       "      <td>F</td>\n",
       "      <td>Subway</td>\n",
       "      <td>40.70546</td>\n",
       "      <td>-73.810708</td>\n",
=======
       "      <td>N220</td>\n",
       "      <td>R155</td>\n",
       "      <td>01-00-02</td>\n",
       "      <td>KINGSBRIDGE RD</td>\n",
       "      <td>BD</td>\n",
       "      <td>IND</td>\n",
       "      <td>03/26/2016</td>\n",
       "      <td>05:00:00</td>\n",
       "      <td>REGULAR</td>\n",
       "      <td>669738</td>\n",
       "      <td>...</td>\n",
       "      <td>D04</td>\n",
       "      <td>IND</td>\n",
       "      <td>Concourse</td>\n",
       "      <td>Kingsbridge Rd</td>\n",
       "      <td>Bx</td>\n",
       "      <td>B D</td>\n",
       "      <td>Subway</td>\n",
       "      <td>40.866978</td>\n",
       "      <td>-73.893509</td>\n",
       "      <td>Kingsbridge RdConcourse</td>\n",
       "    </tr>\n",
       "    <tr>\n",
       "      <th>1</th>\n",
       "      <td>N220</td>\n",
       "      <td>R155</td>\n",
       "      <td>01-00-02</td>\n",
       "      <td>KINGSBRIDGE RD</td>\n",
       "      <td>BD</td>\n",
       "      <td>IND</td>\n",
       "      <td>03/26/2016</td>\n",
       "      <td>09:00:00</td>\n",
       "      <td>REGULAR</td>\n",
       "      <td>669845</td>\n",
       "      <td>...</td>\n",
       "      <td>D04</td>\n",
       "      <td>IND</td>\n",
       "      <td>Concourse</td>\n",
       "      <td>Kingsbridge Rd</td>\n",
       "      <td>Bx</td>\n",
       "      <td>B D</td>\n",
       "      <td>Subway</td>\n",
       "      <td>40.866978</td>\n",
       "      <td>-73.893509</td>\n",
       "      <td>Kingsbridge RdConcourse</td>\n",
       "    </tr>\n",
       "    <tr>\n",
       "      <th>2</th>\n",
       "      <td>N220</td>\n",
       "      <td>R155</td>\n",
       "      <td>01-00-02</td>\n",
       "      <td>KINGSBRIDGE RD</td>\n",
       "      <td>BD</td>\n",
       "      <td>IND</td>\n",
       "      <td>03/26/2016</td>\n",
       "      <td>13:00:00</td>\n",
       "      <td>REGULAR</td>\n",
       "      <td>669956</td>\n",
       "      <td>...</td>\n",
       "      <td>D04</td>\n",
       "      <td>IND</td>\n",
       "      <td>Concourse</td>\n",
       "      <td>Kingsbridge Rd</td>\n",
       "      <td>Bx</td>\n",
       "      <td>B D</td>\n",
       "      <td>Subway</td>\n",
       "      <td>40.866978</td>\n",
       "      <td>-73.893509</td>\n",
       "      <td>Kingsbridge RdConcourse</td>\n",
       "    </tr>\n",
       "    <tr>\n",
       "      <th>3</th>\n",
       "      <td>N220</td>\n",
       "      <td>R155</td>\n",
       "      <td>01-00-02</td>\n",
       "      <td>KINGSBRIDGE RD</td>\n",
       "      <td>BD</td>\n",
       "      <td>IND</td>\n",
       "      <td>03/26/2016</td>\n",
       "      <td>17:00:00</td>\n",
       "      <td>REGULAR</td>\n",
       "      <td>670074</td>\n",
       "      <td>...</td>\n",
       "      <td>D04</td>\n",
       "      <td>IND</td>\n",
       "      <td>Concourse</td>\n",
       "      <td>Kingsbridge Rd</td>\n",
       "      <td>Bx</td>\n",
       "      <td>B D</td>\n",
       "      <td>Subway</td>\n",
       "      <td>40.866978</td>\n",
       "      <td>-73.893509</td>\n",
       "      <td>Kingsbridge RdConcourse</td>\n",
       "    </tr>\n",
       "    <tr>\n",
       "      <th>4</th>\n",
       "      <td>N220</td>\n",
       "      <td>R155</td>\n",
       "      <td>01-00-02</td>\n",
       "      <td>KINGSBRIDGE RD</td>\n",
       "      <td>BD</td>\n",
       "      <td>IND</td>\n",
       "      <td>03/26/2016</td>\n",
       "      <td>21:00:00</td>\n",
       "      <td>REGULAR</td>\n",
       "      <td>670139</td>\n",
       "      <td>...</td>\n",
       "      <td>D04</td>\n",
       "      <td>IND</td>\n",
       "      <td>Concourse</td>\n",
       "      <td>Kingsbridge Rd</td>\n",
       "      <td>Bx</td>\n",
       "      <td>B D</td>\n",
       "      <td>Subway</td>\n",
       "      <td>40.866978</td>\n",
       "      <td>-73.893509</td>\n",
       "      <td>Kingsbridge RdConcourse</td>\n",
>>>>>>> 77fa8c85cd0219cf209429b2ede88a41596a45cc
       "    </tr>\n",
       "  </tbody>\n",
       "</table>\n",
       "<p>5 rows × 46 columns</p>\n",
       "</div>"
      ],
      "text/plain": [
       "    c/a  unit       scp         station linename division        date  \\\n",
<<<<<<< HEAD
       "0  N605  R024  00-06-00  SUTPHIN-ARCHER      EJZ      IND  03/25/2017   \n",
       "1  N605  R024  00-06-00  SUTPHIN-ARCHER      EJZ      IND  03/25/2017   \n",
       "2  N605  R024  00-06-00  SUTPHIN-ARCHER      EJZ      IND  03/25/2017   \n",
       "3  N605  R024  00-06-00  SUTPHIN-ARCHER      EJZ      IND  03/25/2017   \n",
       "4  N605  R024  00-06-00  SUTPHIN-ARCHER      EJZ      IND  03/25/2017   \n",
       "\n",
       "       time     desc  entries       ...        Complex ID GTFS Stop ID  \\\n",
       "0  04:00:00  REGULAR  4244004       ...             257.0          F04   \n",
       "1  08:00:00  REGULAR  4244290       ...             257.0          F04   \n",
       "2  12:00:00  REGULAR  4244663       ...             257.0          F04   \n",
       "3  16:00:00  REGULAR  4245011       ...             257.0          F04   \n",
       "4  20:00:00  REGULAR  4245314       ...             257.0          F04   \n",
       "\n",
       "  Division             Line     Stop Name Borough  Daytime Routes Structure  \\\n",
       "0      IND  Queens - Archer  Sutphin Blvd       Q               F    Subway   \n",
       "1      IND  Queens - Archer  Sutphin Blvd       Q               F    Subway   \n",
       "2      IND  Queens - Archer  Sutphin Blvd       Q               F    Subway   \n",
       "3      IND  Queens - Archer  Sutphin Blvd       Q               F    Subway   \n",
       "4      IND  Queens - Archer  Sutphin Blvd       Q               F    Subway   \n",
       "\n",
       "   GTFS Latitude  GTFS Longitude  \n",
       "0       40.70546      -73.810708  \n",
       "1       40.70546      -73.810708  \n",
       "2       40.70546      -73.810708  \n",
       "3       40.70546      -73.810708  \n",
       "4       40.70546      -73.810708  \n",
=======
       "0  N220  R155  01-00-02  KINGSBRIDGE RD       BD      IND  03/26/2016   \n",
       "1  N220  R155  01-00-02  KINGSBRIDGE RD       BD      IND  03/26/2016   \n",
       "2  N220  R155  01-00-02  KINGSBRIDGE RD       BD      IND  03/26/2016   \n",
       "3  N220  R155  01-00-02  KINGSBRIDGE RD       BD      IND  03/26/2016   \n",
       "4  N220  R155  01-00-02  KINGSBRIDGE RD       BD      IND  03/26/2016   \n",
       "\n",
       "       time     desc  entries           ...             GTFS Stop ID Division  \\\n",
       "0  05:00:00  REGULAR   669738           ...                      D04      IND   \n",
       "1  09:00:00  REGULAR   669845           ...                      D04      IND   \n",
       "2  13:00:00  REGULAR   669956           ...                      D04      IND   \n",
       "3  17:00:00  REGULAR   670074           ...                      D04      IND   \n",
       "4  21:00:00  REGULAR   670139           ...                      D04      IND   \n",
       "\n",
       "        Line       Stop Name Borough Daytime Routes  Structure GTFS Latitude  \\\n",
       "0  Concourse  Kingsbridge Rd      Bx            B D     Subway     40.866978   \n",
       "1  Concourse  Kingsbridge Rd      Bx            B D     Subway     40.866978   \n",
       "2  Concourse  Kingsbridge Rd      Bx            B D     Subway     40.866978   \n",
       "3  Concourse  Kingsbridge Rd      Bx            B D     Subway     40.866978   \n",
       "4  Concourse  Kingsbridge Rd      Bx            B D     Subway     40.866978   \n",
       "\n",
       "   GTFS Longitude               station_id  \n",
       "0      -73.893509  Kingsbridge RdConcourse  \n",
       "1      -73.893509  Kingsbridge RdConcourse  \n",
       "2      -73.893509  Kingsbridge RdConcourse  \n",
       "3      -73.893509  Kingsbridge RdConcourse  \n",
       "4      -73.893509  Kingsbridge RdConcourse  \n",
>>>>>>> 77fa8c85cd0219cf209429b2ede88a41596a45cc
       "\n",
       "[5 rows x 46 columns]"
      ]
     },
     "execution_count": 3,
     "metadata": {},
     "output_type": "execute_result"
    }
   ],
   "source": [
    "turns.head()"
   ]
  },
  {
   "cell_type": "code",
   "execution_count": 4,
   "metadata": {},
   "outputs": [
    {
     "data": {
      "text/plain": [
       "Index(['c/a', 'unit', 'scp', 'station', 'linename', 'division', 'date', 'time',\n",
       "       'desc', 'entries', 'exits', 'datetime', 'datetime_clean', 'year',\n",
       "       'weekday', 'group', 'group_id', 'station_line', 'entries_diff',\n",
       "       'exit_diff', 'first_row_group', 'entries_outlier', 'exit_outlier',\n",
       "       'week', 'hour', 'timegroup', 'timegroupstr', 'wkdaynbr', 'Remote',\n",
       "       'Booth', 'stop_id.2013', 'Station.2013', 'Line.2013', 'Division.2013',\n",
       "       'Station ID', 'Complex ID', 'GTFS Stop ID', 'Division', 'Line',\n",
       "       'Stop Name', 'Borough', 'Daytime Routes', 'Structure', 'GTFS Latitude',\n",
       "       'GTFS Longitude', 'station_id'],\n",
       "      dtype='object')"
      ]
     },
     "execution_count": 4,
     "metadata": {},
     "output_type": "execute_result"
    }
   ],
   "source": [
    "turns.columns"
   ]
  },
  {
   "cell_type": "code",
<<<<<<< HEAD
   "execution_count": 7,
   "metadata": {},
   "outputs": [
    {
     "ename": "MemoryError",
     "evalue": "",
     "output_type": "error",
     "traceback": [
      "\u001b[0;31m---------------------------------------------------------------------------\u001b[0m",
      "\u001b[0;31mMemoryError\u001b[0m                               Traceback (most recent call last)",
      "\u001b[0;32m<ipython-input-7-9a84931f8c25>\u001b[0m in \u001b[0;36m<module>\u001b[0;34m()\u001b[0m\n\u001b[1;32m      3\u001b[0m           'Complex ID', 'Division', 'Line', 'Daytime Routes', 'Structure']\n\u001b[1;32m      4\u001b[0m \u001b[0;34m\u001b[0m\u001b[0m\n\u001b[0;32m----> 5\u001b[0;31m \u001b[0mturns\u001b[0m\u001b[0;34m.\u001b[0m\u001b[0mdrop\u001b[0m\u001b[0;34m(\u001b[0m\u001b[0mto_drop\u001b[0m\u001b[0;34m,\u001b[0m \u001b[0maxis\u001b[0m\u001b[0;34m=\u001b[0m\u001b[0;36m1\u001b[0m\u001b[0;34m,\u001b[0m \u001b[0minplace\u001b[0m\u001b[0;34m=\u001b[0m\u001b[0;32mTrue\u001b[0m\u001b[0;34m)\u001b[0m\u001b[0;34m\u001b[0m\u001b[0m\n\u001b[0m",
      "\u001b[0;32m~/anaconda3/lib/python3.6/site-packages/pandas/core/generic.py\u001b[0m in \u001b[0;36mdrop\u001b[0;34m(self, labels, axis, index, columns, level, inplace, errors)\u001b[0m\n\u001b[1;32m   2528\u001b[0m         \u001b[0;32mfor\u001b[0m \u001b[0maxis\u001b[0m\u001b[0;34m,\u001b[0m \u001b[0mlabels\u001b[0m \u001b[0;32min\u001b[0m \u001b[0maxes\u001b[0m\u001b[0;34m.\u001b[0m\u001b[0mitems\u001b[0m\u001b[0;34m(\u001b[0m\u001b[0;34m)\u001b[0m\u001b[0;34m:\u001b[0m\u001b[0;34m\u001b[0m\u001b[0m\n\u001b[1;32m   2529\u001b[0m             \u001b[0;32mif\u001b[0m \u001b[0mlabels\u001b[0m \u001b[0;32mis\u001b[0m \u001b[0;32mnot\u001b[0m \u001b[0;32mNone\u001b[0m\u001b[0;34m:\u001b[0m\u001b[0;34m\u001b[0m\u001b[0m\n\u001b[0;32m-> 2530\u001b[0;31m                 \u001b[0mobj\u001b[0m \u001b[0;34m=\u001b[0m \u001b[0mobj\u001b[0m\u001b[0;34m.\u001b[0m\u001b[0m_drop_axis\u001b[0m\u001b[0;34m(\u001b[0m\u001b[0mlabels\u001b[0m\u001b[0;34m,\u001b[0m \u001b[0maxis\u001b[0m\u001b[0;34m,\u001b[0m \u001b[0mlevel\u001b[0m\u001b[0;34m=\u001b[0m\u001b[0mlevel\u001b[0m\u001b[0;34m,\u001b[0m \u001b[0merrors\u001b[0m\u001b[0;34m=\u001b[0m\u001b[0merrors\u001b[0m\u001b[0;34m)\u001b[0m\u001b[0;34m\u001b[0m\u001b[0m\n\u001b[0m\u001b[1;32m   2531\u001b[0m \u001b[0;34m\u001b[0m\u001b[0m\n\u001b[1;32m   2532\u001b[0m         \u001b[0;32mif\u001b[0m \u001b[0minplace\u001b[0m\u001b[0;34m:\u001b[0m\u001b[0;34m\u001b[0m\u001b[0m\n",
      "\u001b[0;32m~/anaconda3/lib/python3.6/site-packages/pandas/core/generic.py\u001b[0m in \u001b[0;36m_drop_axis\u001b[0;34m(self, labels, axis, level, errors)\u001b[0m\n\u001b[1;32m   2561\u001b[0m             \u001b[0;32melse\u001b[0m\u001b[0;34m:\u001b[0m\u001b[0;34m\u001b[0m\u001b[0m\n\u001b[1;32m   2562\u001b[0m                 \u001b[0mnew_axis\u001b[0m \u001b[0;34m=\u001b[0m \u001b[0maxis\u001b[0m\u001b[0;34m.\u001b[0m\u001b[0mdrop\u001b[0m\u001b[0;34m(\u001b[0m\u001b[0mlabels\u001b[0m\u001b[0;34m,\u001b[0m \u001b[0merrors\u001b[0m\u001b[0;34m=\u001b[0m\u001b[0merrors\u001b[0m\u001b[0;34m)\u001b[0m\u001b[0;34m\u001b[0m\u001b[0m\n\u001b[0;32m-> 2563\u001b[0;31m             \u001b[0mdropped\u001b[0m \u001b[0;34m=\u001b[0m \u001b[0mself\u001b[0m\u001b[0;34m.\u001b[0m\u001b[0mreindex\u001b[0m\u001b[0;34m(\u001b[0m\u001b[0;34m**\u001b[0m\u001b[0;34m{\u001b[0m\u001b[0maxis_name\u001b[0m\u001b[0;34m:\u001b[0m \u001b[0mnew_axis\u001b[0m\u001b[0;34m}\u001b[0m\u001b[0;34m)\u001b[0m\u001b[0;34m\u001b[0m\u001b[0m\n\u001b[0m\u001b[1;32m   2564\u001b[0m             \u001b[0;32mtry\u001b[0m\u001b[0;34m:\u001b[0m\u001b[0;34m\u001b[0m\u001b[0m\n\u001b[1;32m   2565\u001b[0m                 \u001b[0mdropped\u001b[0m\u001b[0;34m.\u001b[0m\u001b[0maxes\u001b[0m\u001b[0;34m[\u001b[0m\u001b[0maxis_\u001b[0m\u001b[0;34m]\u001b[0m\u001b[0;34m.\u001b[0m\u001b[0mset_names\u001b[0m\u001b[0;34m(\u001b[0m\u001b[0maxis\u001b[0m\u001b[0;34m.\u001b[0m\u001b[0mnames\u001b[0m\u001b[0;34m,\u001b[0m \u001b[0minplace\u001b[0m\u001b[0;34m=\u001b[0m\u001b[0;32mTrue\u001b[0m\u001b[0;34m)\u001b[0m\u001b[0;34m\u001b[0m\u001b[0m\n",
      "\u001b[0;32m~/anaconda3/lib/python3.6/site-packages/pandas/util/_decorators.py\u001b[0m in \u001b[0;36mwrapper\u001b[0;34m(*args, **kwargs)\u001b[0m\n\u001b[1;32m    125\u001b[0m         \u001b[0;34m@\u001b[0m\u001b[0mwraps\u001b[0m\u001b[0;34m(\u001b[0m\u001b[0mfunc\u001b[0m\u001b[0;34m)\u001b[0m\u001b[0;34m\u001b[0m\u001b[0m\n\u001b[1;32m    126\u001b[0m         \u001b[0;32mdef\u001b[0m \u001b[0mwrapper\u001b[0m\u001b[0;34m(\u001b[0m\u001b[0;34m*\u001b[0m\u001b[0margs\u001b[0m\u001b[0;34m,\u001b[0m \u001b[0;34m**\u001b[0m\u001b[0mkwargs\u001b[0m\u001b[0;34m)\u001b[0m\u001b[0;34m:\u001b[0m\u001b[0;34m\u001b[0m\u001b[0m\n\u001b[0;32m--> 127\u001b[0;31m             \u001b[0;32mreturn\u001b[0m \u001b[0mfunc\u001b[0m\u001b[0;34m(\u001b[0m\u001b[0;34m*\u001b[0m\u001b[0margs\u001b[0m\u001b[0;34m,\u001b[0m \u001b[0;34m**\u001b[0m\u001b[0mkwargs\u001b[0m\u001b[0;34m)\u001b[0m\u001b[0;34m\u001b[0m\u001b[0m\n\u001b[0m\u001b[1;32m    128\u001b[0m \u001b[0;34m\u001b[0m\u001b[0m\n\u001b[1;32m    129\u001b[0m         \u001b[0;32mif\u001b[0m \u001b[0;32mnot\u001b[0m \u001b[0mPY2\u001b[0m\u001b[0;34m:\u001b[0m\u001b[0;34m\u001b[0m\u001b[0m\n",
      "\u001b[0;32m~/anaconda3/lib/python3.6/site-packages/pandas/core/frame.py\u001b[0m in \u001b[0;36mreindex\u001b[0;34m(self, *args, **kwargs)\u001b[0m\n\u001b[1;32m   2933\u001b[0m         \u001b[0mkwargs\u001b[0m\u001b[0;34m.\u001b[0m\u001b[0mpop\u001b[0m\u001b[0;34m(\u001b[0m\u001b[0;34m'axis'\u001b[0m\u001b[0;34m,\u001b[0m \u001b[0;32mNone\u001b[0m\u001b[0;34m)\u001b[0m\u001b[0;34m\u001b[0m\u001b[0m\n\u001b[1;32m   2934\u001b[0m         \u001b[0mkwargs\u001b[0m\u001b[0;34m.\u001b[0m\u001b[0mpop\u001b[0m\u001b[0;34m(\u001b[0m\u001b[0;34m'labels'\u001b[0m\u001b[0;34m,\u001b[0m \u001b[0;32mNone\u001b[0m\u001b[0;34m)\u001b[0m\u001b[0;34m\u001b[0m\u001b[0m\n\u001b[0;32m-> 2935\u001b[0;31m         \u001b[0;32mreturn\u001b[0m \u001b[0msuper\u001b[0m\u001b[0;34m(\u001b[0m\u001b[0mDataFrame\u001b[0m\u001b[0;34m,\u001b[0m \u001b[0mself\u001b[0m\u001b[0;34m)\u001b[0m\u001b[0;34m.\u001b[0m\u001b[0mreindex\u001b[0m\u001b[0;34m(\u001b[0m\u001b[0;34m**\u001b[0m\u001b[0mkwargs\u001b[0m\u001b[0;34m)\u001b[0m\u001b[0;34m\u001b[0m\u001b[0m\n\u001b[0m\u001b[1;32m   2936\u001b[0m \u001b[0;34m\u001b[0m\u001b[0m\n\u001b[1;32m   2937\u001b[0m     \u001b[0;34m@\u001b[0m\u001b[0mAppender\u001b[0m\u001b[0;34m(\u001b[0m\u001b[0m_shared_docs\u001b[0m\u001b[0;34m[\u001b[0m\u001b[0;34m'reindex_axis'\u001b[0m\u001b[0;34m]\u001b[0m \u001b[0;34m%\u001b[0m \u001b[0m_shared_doc_kwargs\u001b[0m\u001b[0;34m)\u001b[0m\u001b[0;34m\u001b[0m\u001b[0m\n",
      "\u001b[0;32m~/anaconda3/lib/python3.6/site-packages/pandas/core/generic.py\u001b[0m in \u001b[0;36mreindex\u001b[0;34m(self, *args, **kwargs)\u001b[0m\n\u001b[1;32m   3002\u001b[0m                             'argument \"{0}\"'.format(list(kwargs.keys())[0]))\n\u001b[1;32m   3003\u001b[0m \u001b[0;34m\u001b[0m\u001b[0m\n\u001b[0;32m-> 3004\u001b[0;31m         \u001b[0mself\u001b[0m\u001b[0;34m.\u001b[0m\u001b[0m_consolidate_inplace\u001b[0m\u001b[0;34m(\u001b[0m\u001b[0;34m)\u001b[0m\u001b[0;34m\u001b[0m\u001b[0m\n\u001b[0m\u001b[1;32m   3005\u001b[0m \u001b[0;34m\u001b[0m\u001b[0m\n\u001b[1;32m   3006\u001b[0m         \u001b[0;31m# if all axes that are requested to reindex are equal, then only copy\u001b[0m\u001b[0;34m\u001b[0m\u001b[0;34m\u001b[0m\u001b[0m\n",
      "\u001b[0;32m~/anaconda3/lib/python3.6/site-packages/pandas/core/generic.py\u001b[0m in \u001b[0;36m_consolidate_inplace\u001b[0;34m(self)\u001b[0m\n\u001b[1;32m   3675\u001b[0m             \u001b[0mself\u001b[0m\u001b[0;34m.\u001b[0m\u001b[0m_data\u001b[0m \u001b[0;34m=\u001b[0m \u001b[0mself\u001b[0m\u001b[0;34m.\u001b[0m\u001b[0m_data\u001b[0m\u001b[0;34m.\u001b[0m\u001b[0mconsolidate\u001b[0m\u001b[0;34m(\u001b[0m\u001b[0;34m)\u001b[0m\u001b[0;34m\u001b[0m\u001b[0m\n\u001b[1;32m   3676\u001b[0m \u001b[0;34m\u001b[0m\u001b[0m\n\u001b[0;32m-> 3677\u001b[0;31m         \u001b[0mself\u001b[0m\u001b[0;34m.\u001b[0m\u001b[0m_protect_consolidate\u001b[0m\u001b[0;34m(\u001b[0m\u001b[0mf\u001b[0m\u001b[0;34m)\u001b[0m\u001b[0;34m\u001b[0m\u001b[0m\n\u001b[0m\u001b[1;32m   3678\u001b[0m \u001b[0;34m\u001b[0m\u001b[0m\n\u001b[1;32m   3679\u001b[0m     \u001b[0;32mdef\u001b[0m \u001b[0m_consolidate\u001b[0m\u001b[0;34m(\u001b[0m\u001b[0mself\u001b[0m\u001b[0;34m,\u001b[0m \u001b[0minplace\u001b[0m\u001b[0;34m=\u001b[0m\u001b[0;32mFalse\u001b[0m\u001b[0;34m)\u001b[0m\u001b[0;34m:\u001b[0m\u001b[0;34m\u001b[0m\u001b[0m\n",
      "\u001b[0;32m~/anaconda3/lib/python3.6/site-packages/pandas/core/generic.py\u001b[0m in \u001b[0;36m_protect_consolidate\u001b[0;34m(self, f)\u001b[0m\n\u001b[1;32m   3664\u001b[0m         \"\"\"\n\u001b[1;32m   3665\u001b[0m         \u001b[0mblocks_before\u001b[0m \u001b[0;34m=\u001b[0m \u001b[0mlen\u001b[0m\u001b[0;34m(\u001b[0m\u001b[0mself\u001b[0m\u001b[0;34m.\u001b[0m\u001b[0m_data\u001b[0m\u001b[0;34m.\u001b[0m\u001b[0mblocks\u001b[0m\u001b[0;34m)\u001b[0m\u001b[0;34m\u001b[0m\u001b[0m\n\u001b[0;32m-> 3666\u001b[0;31m         \u001b[0mresult\u001b[0m \u001b[0;34m=\u001b[0m \u001b[0mf\u001b[0m\u001b[0;34m(\u001b[0m\u001b[0;34m)\u001b[0m\u001b[0;34m\u001b[0m\u001b[0m\n\u001b[0m\u001b[1;32m   3667\u001b[0m         \u001b[0;32mif\u001b[0m \u001b[0mlen\u001b[0m\u001b[0;34m(\u001b[0m\u001b[0mself\u001b[0m\u001b[0;34m.\u001b[0m\u001b[0m_data\u001b[0m\u001b[0;34m.\u001b[0m\u001b[0mblocks\u001b[0m\u001b[0;34m)\u001b[0m \u001b[0;34m!=\u001b[0m \u001b[0mblocks_before\u001b[0m\u001b[0;34m:\u001b[0m\u001b[0;34m\u001b[0m\u001b[0m\n\u001b[1;32m   3668\u001b[0m             \u001b[0mself\u001b[0m\u001b[0;34m.\u001b[0m\u001b[0m_clear_item_cache\u001b[0m\u001b[0;34m(\u001b[0m\u001b[0;34m)\u001b[0m\u001b[0;34m\u001b[0m\u001b[0m\n",
      "\u001b[0;32m~/anaconda3/lib/python3.6/site-packages/pandas/core/generic.py\u001b[0m in \u001b[0;36mf\u001b[0;34m()\u001b[0m\n\u001b[1;32m   3673\u001b[0m \u001b[0;34m\u001b[0m\u001b[0m\n\u001b[1;32m   3674\u001b[0m         \u001b[0;32mdef\u001b[0m \u001b[0mf\u001b[0m\u001b[0;34m(\u001b[0m\u001b[0;34m)\u001b[0m\u001b[0;34m:\u001b[0m\u001b[0;34m\u001b[0m\u001b[0m\n\u001b[0;32m-> 3675\u001b[0;31m             \u001b[0mself\u001b[0m\u001b[0;34m.\u001b[0m\u001b[0m_data\u001b[0m \u001b[0;34m=\u001b[0m \u001b[0mself\u001b[0m\u001b[0;34m.\u001b[0m\u001b[0m_data\u001b[0m\u001b[0;34m.\u001b[0m\u001b[0mconsolidate\u001b[0m\u001b[0;34m(\u001b[0m\u001b[0;34m)\u001b[0m\u001b[0;34m\u001b[0m\u001b[0m\n\u001b[0m\u001b[1;32m   3676\u001b[0m \u001b[0;34m\u001b[0m\u001b[0m\n\u001b[1;32m   3677\u001b[0m         \u001b[0mself\u001b[0m\u001b[0;34m.\u001b[0m\u001b[0m_protect_consolidate\u001b[0m\u001b[0;34m(\u001b[0m\u001b[0mf\u001b[0m\u001b[0;34m)\u001b[0m\u001b[0;34m\u001b[0m\u001b[0m\n",
      "\u001b[0;32m~/anaconda3/lib/python3.6/site-packages/pandas/core/internals.py\u001b[0m in \u001b[0;36mconsolidate\u001b[0;34m(self)\u001b[0m\n\u001b[1;32m   3824\u001b[0m         \u001b[0mbm\u001b[0m \u001b[0;34m=\u001b[0m \u001b[0mself\u001b[0m\u001b[0;34m.\u001b[0m\u001b[0m__class__\u001b[0m\u001b[0;34m(\u001b[0m\u001b[0mself\u001b[0m\u001b[0;34m.\u001b[0m\u001b[0mblocks\u001b[0m\u001b[0;34m,\u001b[0m \u001b[0mself\u001b[0m\u001b[0;34m.\u001b[0m\u001b[0maxes\u001b[0m\u001b[0;34m)\u001b[0m\u001b[0;34m\u001b[0m\u001b[0m\n\u001b[1;32m   3825\u001b[0m         \u001b[0mbm\u001b[0m\u001b[0;34m.\u001b[0m\u001b[0m_is_consolidated\u001b[0m \u001b[0;34m=\u001b[0m \u001b[0;32mFalse\u001b[0m\u001b[0;34m\u001b[0m\u001b[0m\n\u001b[0;32m-> 3826\u001b[0;31m         \u001b[0mbm\u001b[0m\u001b[0;34m.\u001b[0m\u001b[0m_consolidate_inplace\u001b[0m\u001b[0;34m(\u001b[0m\u001b[0;34m)\u001b[0m\u001b[0;34m\u001b[0m\u001b[0m\n\u001b[0m\u001b[1;32m   3827\u001b[0m         \u001b[0;32mreturn\u001b[0m \u001b[0mbm\u001b[0m\u001b[0;34m\u001b[0m\u001b[0m\n\u001b[1;32m   3828\u001b[0m \u001b[0;34m\u001b[0m\u001b[0m\n",
      "\u001b[0;32m~/anaconda3/lib/python3.6/site-packages/pandas/core/internals.py\u001b[0m in \u001b[0;36m_consolidate_inplace\u001b[0;34m(self)\u001b[0m\n\u001b[1;32m   3829\u001b[0m     \u001b[0;32mdef\u001b[0m \u001b[0m_consolidate_inplace\u001b[0m\u001b[0;34m(\u001b[0m\u001b[0mself\u001b[0m\u001b[0;34m)\u001b[0m\u001b[0;34m:\u001b[0m\u001b[0;34m\u001b[0m\u001b[0m\n\u001b[1;32m   3830\u001b[0m         \u001b[0;32mif\u001b[0m \u001b[0;32mnot\u001b[0m \u001b[0mself\u001b[0m\u001b[0;34m.\u001b[0m\u001b[0mis_consolidated\u001b[0m\u001b[0;34m(\u001b[0m\u001b[0;34m)\u001b[0m\u001b[0;34m:\u001b[0m\u001b[0;34m\u001b[0m\u001b[0m\n\u001b[0;32m-> 3831\u001b[0;31m             \u001b[0mself\u001b[0m\u001b[0;34m.\u001b[0m\u001b[0mblocks\u001b[0m \u001b[0;34m=\u001b[0m \u001b[0mtuple\u001b[0m\u001b[0;34m(\u001b[0m\u001b[0m_consolidate\u001b[0m\u001b[0;34m(\u001b[0m\u001b[0mself\u001b[0m\u001b[0;34m.\u001b[0m\u001b[0mblocks\u001b[0m\u001b[0;34m)\u001b[0m\u001b[0;34m)\u001b[0m\u001b[0;34m\u001b[0m\u001b[0m\n\u001b[0m\u001b[1;32m   3832\u001b[0m             \u001b[0mself\u001b[0m\u001b[0;34m.\u001b[0m\u001b[0m_is_consolidated\u001b[0m \u001b[0;34m=\u001b[0m \u001b[0;32mTrue\u001b[0m\u001b[0;34m\u001b[0m\u001b[0m\n\u001b[1;32m   3833\u001b[0m             \u001b[0mself\u001b[0m\u001b[0;34m.\u001b[0m\u001b[0m_known_consolidated\u001b[0m \u001b[0;34m=\u001b[0m \u001b[0;32mTrue\u001b[0m\u001b[0;34m\u001b[0m\u001b[0m\n",
      "\u001b[0;32m~/anaconda3/lib/python3.6/site-packages/pandas/core/internals.py\u001b[0m in \u001b[0;36m_consolidate\u001b[0;34m(blocks)\u001b[0m\n\u001b[1;32m   4851\u001b[0m     \u001b[0;32mfor\u001b[0m \u001b[0;34m(\u001b[0m\u001b[0m_can_consolidate\u001b[0m\u001b[0;34m,\u001b[0m \u001b[0mdtype\u001b[0m\u001b[0;34m)\u001b[0m\u001b[0;34m,\u001b[0m \u001b[0mgroup_blocks\u001b[0m \u001b[0;32min\u001b[0m \u001b[0mgrouper\u001b[0m\u001b[0;34m:\u001b[0m\u001b[0;34m\u001b[0m\u001b[0m\n\u001b[1;32m   4852\u001b[0m         merged_blocks = _merge_blocks(list(group_blocks), dtype=dtype,\n\u001b[0;32m-> 4853\u001b[0;31m                                       _can_consolidate=_can_consolidate)\n\u001b[0m\u001b[1;32m   4854\u001b[0m         \u001b[0mnew_blocks\u001b[0m \u001b[0;34m=\u001b[0m \u001b[0m_extend_blocks\u001b[0m\u001b[0;34m(\u001b[0m\u001b[0mmerged_blocks\u001b[0m\u001b[0;34m,\u001b[0m \u001b[0mnew_blocks\u001b[0m\u001b[0;34m)\u001b[0m\u001b[0;34m\u001b[0m\u001b[0m\n\u001b[1;32m   4855\u001b[0m     \u001b[0;32mreturn\u001b[0m \u001b[0mnew_blocks\u001b[0m\u001b[0;34m\u001b[0m\u001b[0m\n",
      "\u001b[0;32m~/anaconda3/lib/python3.6/site-packages/pandas/core/internals.py\u001b[0m in \u001b[0;36m_merge_blocks\u001b[0;34m(blocks, dtype, _can_consolidate)\u001b[0m\n\u001b[1;32m   4871\u001b[0m         \u001b[0;31m# combination of those slices is a slice, too.\u001b[0m\u001b[0;34m\u001b[0m\u001b[0;34m\u001b[0m\u001b[0m\n\u001b[1;32m   4872\u001b[0m         \u001b[0mnew_mgr_locs\u001b[0m \u001b[0;34m=\u001b[0m \u001b[0mnp\u001b[0m\u001b[0;34m.\u001b[0m\u001b[0mconcatenate\u001b[0m\u001b[0;34m(\u001b[0m\u001b[0;34m[\u001b[0m\u001b[0mb\u001b[0m\u001b[0;34m.\u001b[0m\u001b[0mmgr_locs\u001b[0m\u001b[0;34m.\u001b[0m\u001b[0mas_array\u001b[0m \u001b[0;32mfor\u001b[0m \u001b[0mb\u001b[0m \u001b[0;32min\u001b[0m \u001b[0mblocks\u001b[0m\u001b[0;34m]\u001b[0m\u001b[0;34m)\u001b[0m\u001b[0;34m\u001b[0m\u001b[0m\n\u001b[0;32m-> 4873\u001b[0;31m         \u001b[0mnew_values\u001b[0m \u001b[0;34m=\u001b[0m \u001b[0m_vstack\u001b[0m\u001b[0;34m(\u001b[0m\u001b[0;34m[\u001b[0m\u001b[0mb\u001b[0m\u001b[0;34m.\u001b[0m\u001b[0mvalues\u001b[0m \u001b[0;32mfor\u001b[0m \u001b[0mb\u001b[0m \u001b[0;32min\u001b[0m \u001b[0mblocks\u001b[0m\u001b[0;34m]\u001b[0m\u001b[0;34m,\u001b[0m \u001b[0mdtype\u001b[0m\u001b[0;34m)\u001b[0m\u001b[0;34m\u001b[0m\u001b[0m\n\u001b[0m\u001b[1;32m   4874\u001b[0m \u001b[0;34m\u001b[0m\u001b[0m\n\u001b[1;32m   4875\u001b[0m         \u001b[0margsort\u001b[0m \u001b[0;34m=\u001b[0m \u001b[0mnp\u001b[0m\u001b[0;34m.\u001b[0m\u001b[0margsort\u001b[0m\u001b[0;34m(\u001b[0m\u001b[0mnew_mgr_locs\u001b[0m\u001b[0;34m)\u001b[0m\u001b[0;34m\u001b[0m\u001b[0m\n",
      "\u001b[0;32m~/anaconda3/lib/python3.6/site-packages/pandas/core/internals.py\u001b[0m in \u001b[0;36m_vstack\u001b[0;34m(to_stack, dtype)\u001b[0m\n\u001b[1;32m   4917\u001b[0m \u001b[0;34m\u001b[0m\u001b[0m\n\u001b[1;32m   4918\u001b[0m     \u001b[0;32melse\u001b[0m\u001b[0;34m:\u001b[0m\u001b[0;34m\u001b[0m\u001b[0m\n\u001b[0;32m-> 4919\u001b[0;31m         \u001b[0;32mreturn\u001b[0m \u001b[0mnp\u001b[0m\u001b[0;34m.\u001b[0m\u001b[0mvstack\u001b[0m\u001b[0;34m(\u001b[0m\u001b[0mto_stack\u001b[0m\u001b[0;34m)\u001b[0m\u001b[0;34m\u001b[0m\u001b[0m\n\u001b[0m\u001b[1;32m   4920\u001b[0m \u001b[0;34m\u001b[0m\u001b[0m\n\u001b[1;32m   4921\u001b[0m \u001b[0;34m\u001b[0m\u001b[0m\n",
      "\u001b[0;32m~/anaconda3/lib/python3.6/site-packages/numpy/core/shape_base.py\u001b[0m in \u001b[0;36mvstack\u001b[0;34m(tup)\u001b[0m\n\u001b[1;32m    235\u001b[0m \u001b[0;34m\u001b[0m\u001b[0m\n\u001b[1;32m    236\u001b[0m     \"\"\"\n\u001b[0;32m--> 237\u001b[0;31m     \u001b[0;32mreturn\u001b[0m \u001b[0m_nx\u001b[0m\u001b[0;34m.\u001b[0m\u001b[0mconcatenate\u001b[0m\u001b[0;34m(\u001b[0m\u001b[0;34m[\u001b[0m\u001b[0matleast_2d\u001b[0m\u001b[0;34m(\u001b[0m\u001b[0m_m\u001b[0m\u001b[0;34m)\u001b[0m \u001b[0;32mfor\u001b[0m \u001b[0m_m\u001b[0m \u001b[0;32min\u001b[0m \u001b[0mtup\u001b[0m\u001b[0;34m]\u001b[0m\u001b[0;34m,\u001b[0m \u001b[0;36m0\u001b[0m\u001b[0;34m)\u001b[0m\u001b[0;34m\u001b[0m\u001b[0m\n\u001b[0m\u001b[1;32m    238\u001b[0m \u001b[0;34m\u001b[0m\u001b[0m\n\u001b[1;32m    239\u001b[0m \u001b[0;32mdef\u001b[0m \u001b[0mhstack\u001b[0m\u001b[0;34m(\u001b[0m\u001b[0mtup\u001b[0m\u001b[0;34m)\u001b[0m\u001b[0;34m:\u001b[0m\u001b[0;34m\u001b[0m\u001b[0m\n",
      "\u001b[0;31mMemoryError\u001b[0m: "
     ]
    }
   ],
=======
   "execution_count": 5,
   "metadata": {
    "collapsed": true
   },
   "outputs": [],
>>>>>>> 77fa8c85cd0219cf209429b2ede88a41596a45cc
   "source": [
    "# We can drop some of these columns\n",
    "to_drop = ['Remote', 'Booth', 'stop_id.2013', 'Station.2013', 'Line.2013', 'Division.2013', 'Station ID',\n",
    "          'Complex ID', 'Division', 'Line', 'Daytime Routes', 'Structure']\n",
    "\n",
    "turns.drop(to_drop, axis=1, inplace=True)"
   ]
  },
  {
   "cell_type": "markdown",
   "metadata": {
    "collapsed": true
   },
   "source": [
    "## Transform Location Data\n",
    "### Project lat/long points from geo coordinates to x,y values"
   ]
  },
  {
   "cell_type": "code",
   "execution_count": 6,
   "metadata": {
    "collapsed": true
   },
   "outputs": [],
   "source": [
    "# Set projections\n",
    "inProj = proj.Proj(init='epsg:4326') # assuming you're using WGS84 geographic\n",
    "outProj = proj.Proj(init='epsg:27700') # use a locally appropriate projected CRS"
   ]
  },
  {
   "cell_type": "code",
   "execution_count": 7,
   "metadata": {
    "collapsed": true
   },
   "outputs": [],
   "source": [
    "def convert_to_point(lon_array, lat_array, inProj=inProj, outProj=outProj):\n",
    "    \"\"\"\n",
    "    For a pair of geographic coordinate, project to x,y coordinates and return for use with spatial functions\n",
    "    \"\"\"\n",
    "    points = []\n",
    "    \n",
    "    for lon, lat in zip(lon_array, lat_array):\n",
    "        \n",
    "        # Cast the geographic coordinate pair to the projected system\n",
    "        x, y = proj.transform(inProj, outProj, lon, lat)\n",
    "        pnt = geometry.Point(x, y)\n",
    "        points.append(pnt)\n",
    "    \n",
    "    return points"
   ]
  },
  {
   "cell_type": "markdown",
   "metadata": {},
   "source": [
    "Because I don't need to run the above function on every single row in my turnstile dataframe (many rows for a single coordinate pair) I'll find the distinct lat/long pairs and convert them to points then merge back to full dataset"
   ]
  },
  {
   "cell_type": "code",
<<<<<<< HEAD
   "execution_count": 60,
=======
   "execution_count": 8,
>>>>>>> 77fa8c85cd0219cf209429b2ede88a41596a45cc
   "metadata": {
    "collapsed": true
   },
   "outputs": [],
   "source": [
    "# Build array of distinct lat/longs to convert to points\n",
    "lat_longs = turns[['GTFS Latitude','GTFS Longitude']].drop_duplicates(keep='first').dropna(how='any')\n",
    "lat_longs.reset_index(drop=True, inplace=True)\n",
    "\n",
    "longs = np.array(lat_longs['GTFS Longitude'])\n",
    "lats = np.array(lat_longs['GTFS Latitude'])"
   ]
  },
  {
   "cell_type": "code",
<<<<<<< HEAD
   "execution_count": 61,
=======
   "execution_count": 9,
>>>>>>> 77fa8c85cd0219cf209429b2ede88a41596a45cc
   "metadata": {
    "collapsed": true
   },
   "outputs": [],
   "source": [
    "lat_longs['points'] = convert_to_point(longs, lats)"
   ]
  },
  {
   "cell_type": "code",
   "execution_count": 10,
   "metadata": {},
   "outputs": [
    {
     "data": {
      "text/html": [
       "<div>\n",
       "<style>\n",
       "    .dataframe thead tr:only-child th {\n",
       "        text-align: right;\n",
       "    }\n",
       "\n",
       "    .dataframe thead th {\n",
       "        text-align: left;\n",
       "    }\n",
       "\n",
       "    .dataframe tbody tr th {\n",
       "        vertical-align: top;\n",
       "    }\n",
       "</style>\n",
       "<table border=\"1\" class=\"dataframe\">\n",
       "  <thead>\n",
       "    <tr style=\"text-align: right;\">\n",
       "      <th></th>\n",
       "      <th>GTFS Latitude</th>\n",
       "      <th>GTFS Longitude</th>\n",
       "      <th>points</th>\n",
       "    </tr>\n",
       "  </thead>\n",
       "  <tbody>\n",
       "    <tr>\n",
       "      <th>0</th>\n",
       "      <td>40.866978</td>\n",
       "      <td>-73.893509</td>\n",
       "      <td>POINT (-5388659.980590556 2328013.221235313)</td>\n",
       "    </tr>\n",
       "    <tr>\n",
       "      <th>1</th>\n",
       "      <td>40.751776</td>\n",
       "      <td>-73.976848</td>\n",
       "      <td>POINT (-5410795.920293068 2330219.44090841)</td>\n",
       "    </tr>\n",
       "    <tr>\n",
       "      <th>2</th>\n",
       "      <td>40.844434</td>\n",
       "      <td>-73.914685</td>\n",
       "      <td>POINT (-5393248.653874857 2329004.474736666)</td>\n",
       "    </tr>\n",
       "    <tr>\n",
       "      <th>3</th>\n",
       "      <td>40.700377</td>\n",
       "      <td>-73.950234</td>\n",
       "      <td>POINT (-5417217.488291109 2323777.891172175)</td>\n",
       "    </tr>\n",
       "    <tr>\n",
       "      <th>4</th>\n",
       "      <td>40.680829</td>\n",
       "      <td>-73.975098</td>\n",
       "      <td>POINT (-5421573.959626293 2325407.545724754)</td>\n",
       "    </tr>\n",
       "  </tbody>\n",
       "</table>\n",
       "</div>"
      ],
      "text/plain": [
       "   GTFS Latitude  GTFS Longitude                                        points\n",
       "0      40.866978      -73.893509  POINT (-5388659.980590556 2328013.221235313)\n",
       "1      40.751776      -73.976848   POINT (-5410795.920293068 2330219.44090841)\n",
       "2      40.844434      -73.914685  POINT (-5393248.653874857 2329004.474736666)\n",
       "3      40.700377      -73.950234  POINT (-5417217.488291109 2323777.891172175)\n",
       "4      40.680829      -73.975098  POINT (-5421573.959626293 2325407.545724754)"
      ]
     },
     "execution_count": 10,
     "metadata": {},
     "output_type": "execute_result"
    }
   ],
   "source": [
    "lat_longs.head()"
   ]
  },
  {
   "cell_type": "markdown",
   "metadata": {},
   "source": [
    "Now I can merge the projected points back to my full dataframe"
   ]
  },
  {
   "cell_type": "code",
   "execution_count": 11,
   "metadata": {},
   "outputs": [
    {
     "data": {
      "text/html": [
       "<div>\n",
       "<style>\n",
       "    .dataframe thead tr:only-child th {\n",
       "        text-align: right;\n",
       "    }\n",
       "\n",
       "    .dataframe thead th {\n",
       "        text-align: left;\n",
       "    }\n",
       "\n",
       "    .dataframe tbody tr th {\n",
       "        vertical-align: top;\n",
       "    }\n",
       "</style>\n",
       "<table border=\"1\" class=\"dataframe\">\n",
       "  <thead>\n",
       "    <tr style=\"text-align: right;\">\n",
       "      <th></th>\n",
       "      <th>c/a</th>\n",
       "      <th>unit</th>\n",
       "      <th>scp</th>\n",
       "      <th>station</th>\n",
       "      <th>linename</th>\n",
       "      <th>division</th>\n",
       "      <th>date</th>\n",
       "      <th>time</th>\n",
       "      <th>desc</th>\n",
       "      <th>entries</th>\n",
       "      <th>...</th>\n",
       "      <th>timegroup</th>\n",
       "      <th>timegroupstr</th>\n",
       "      <th>wkdaynbr</th>\n",
       "      <th>GTFS Stop ID</th>\n",
       "      <th>Stop Name</th>\n",
       "      <th>Borough</th>\n",
       "      <th>GTFS Latitude</th>\n",
       "      <th>GTFS Longitude</th>\n",
       "      <th>station_id</th>\n",
       "      <th>points</th>\n",
       "    </tr>\n",
       "  </thead>\n",
       "  <tbody>\n",
       "    <tr>\n",
       "      <th>0</th>\n",
       "      <td>N220</td>\n",
       "      <td>R155</td>\n",
       "      <td>01-00-02</td>\n",
       "      <td>KINGSBRIDGE RD</td>\n",
       "      <td>BD</td>\n",
       "      <td>IND</td>\n",
       "      <td>03/26/2016</td>\n",
       "      <td>05:00:00</td>\n",
       "      <td>REGULAR</td>\n",
       "      <td>669738</td>\n",
       "      <td>...</td>\n",
       "      <td>1</td>\n",
       "      <td>2 am - 6 am</td>\n",
       "      <td>6</td>\n",
       "      <td>D04</td>\n",
       "      <td>Kingsbridge Rd</td>\n",
       "      <td>Bx</td>\n",
       "      <td>40.866978</td>\n",
       "      <td>-73.893509</td>\n",
       "      <td>Kingsbridge RdConcourse</td>\n",
       "      <td>POINT (-5388659.980590556 2328013.221235313)</td>\n",
       "    </tr>\n",
       "    <tr>\n",
       "      <th>1</th>\n",
       "      <td>N220</td>\n",
       "      <td>R155</td>\n",
       "      <td>01-00-02</td>\n",
       "      <td>KINGSBRIDGE RD</td>\n",
       "      <td>BD</td>\n",
       "      <td>IND</td>\n",
       "      <td>03/26/2016</td>\n",
       "      <td>09:00:00</td>\n",
       "      <td>REGULAR</td>\n",
       "      <td>669845</td>\n",
       "      <td>...</td>\n",
       "      <td>2</td>\n",
       "      <td>6 am - 10 am</td>\n",
       "      <td>6</td>\n",
       "      <td>D04</td>\n",
       "      <td>Kingsbridge Rd</td>\n",
       "      <td>Bx</td>\n",
       "      <td>40.866978</td>\n",
       "      <td>-73.893509</td>\n",
       "      <td>Kingsbridge RdConcourse</td>\n",
       "      <td>POINT (-5388659.980590556 2328013.221235313)</td>\n",
       "    </tr>\n",
       "    <tr>\n",
       "      <th>2</th>\n",
       "      <td>N220</td>\n",
       "      <td>R155</td>\n",
       "      <td>01-00-02</td>\n",
       "      <td>KINGSBRIDGE RD</td>\n",
       "      <td>BD</td>\n",
       "      <td>IND</td>\n",
       "      <td>03/26/2016</td>\n",
       "      <td>13:00:00</td>\n",
       "      <td>REGULAR</td>\n",
       "      <td>669956</td>\n",
       "      <td>...</td>\n",
       "      <td>3</td>\n",
       "      <td>10 am - 2pm</td>\n",
       "      <td>6</td>\n",
       "      <td>D04</td>\n",
       "      <td>Kingsbridge Rd</td>\n",
       "      <td>Bx</td>\n",
       "      <td>40.866978</td>\n",
       "      <td>-73.893509</td>\n",
       "      <td>Kingsbridge RdConcourse</td>\n",
       "      <td>POINT (-5388659.980590556 2328013.221235313)</td>\n",
       "    </tr>\n",
       "    <tr>\n",
       "      <th>3</th>\n",
       "      <td>N220</td>\n",
       "      <td>R155</td>\n",
       "      <td>01-00-02</td>\n",
       "      <td>KINGSBRIDGE RD</td>\n",
       "      <td>BD</td>\n",
       "      <td>IND</td>\n",
       "      <td>03/26/2016</td>\n",
       "      <td>17:00:00</td>\n",
       "      <td>REGULAR</td>\n",
       "      <td>670074</td>\n",
       "      <td>...</td>\n",
       "      <td>4</td>\n",
       "      <td>2 pm - 6 pm</td>\n",
       "      <td>6</td>\n",
       "      <td>D04</td>\n",
       "      <td>Kingsbridge Rd</td>\n",
       "      <td>Bx</td>\n",
       "      <td>40.866978</td>\n",
       "      <td>-73.893509</td>\n",
       "      <td>Kingsbridge RdConcourse</td>\n",
       "      <td>POINT (-5388659.980590556 2328013.221235313)</td>\n",
       "    </tr>\n",
       "    <tr>\n",
       "      <th>4</th>\n",
       "      <td>N220</td>\n",
       "      <td>R155</td>\n",
       "      <td>01-00-02</td>\n",
       "      <td>KINGSBRIDGE RD</td>\n",
       "      <td>BD</td>\n",
       "      <td>IND</td>\n",
       "      <td>03/26/2016</td>\n",
       "      <td>21:00:00</td>\n",
       "      <td>REGULAR</td>\n",
       "      <td>670139</td>\n",
       "      <td>...</td>\n",
       "      <td>5</td>\n",
       "      <td>6 pm - 10 pm</td>\n",
       "      <td>6</td>\n",
       "      <td>D04</td>\n",
       "      <td>Kingsbridge Rd</td>\n",
       "      <td>Bx</td>\n",
       "      <td>40.866978</td>\n",
       "      <td>-73.893509</td>\n",
       "      <td>Kingsbridge RdConcourse</td>\n",
       "      <td>POINT (-5388659.980590556 2328013.221235313)</td>\n",
       "    </tr>\n",
       "  </tbody>\n",
       "</table>\n",
       "<p>5 rows × 35 columns</p>\n",
       "</div>"
      ],
      "text/plain": [
       "    c/a  unit       scp         station linename division        date  \\\n",
       "0  N220  R155  01-00-02  KINGSBRIDGE RD       BD      IND  03/26/2016   \n",
       "1  N220  R155  01-00-02  KINGSBRIDGE RD       BD      IND  03/26/2016   \n",
       "2  N220  R155  01-00-02  KINGSBRIDGE RD       BD      IND  03/26/2016   \n",
       "3  N220  R155  01-00-02  KINGSBRIDGE RD       BD      IND  03/26/2016   \n",
       "4  N220  R155  01-00-02  KINGSBRIDGE RD       BD      IND  03/26/2016   \n",
       "\n",
       "       time     desc  entries                      ...                       \\\n",
       "0  05:00:00  REGULAR   669738                      ...                        \n",
       "1  09:00:00  REGULAR   669845                      ...                        \n",
       "2  13:00:00  REGULAR   669956                      ...                        \n",
       "3  17:00:00  REGULAR   670074                      ...                        \n",
       "4  21:00:00  REGULAR   670139                      ...                        \n",
       "\n",
       "   timegroup  timegroupstr wkdaynbr  GTFS Stop ID       Stop Name Borough  \\\n",
       "0          1   2 am - 6 am        6           D04  Kingsbridge Rd      Bx   \n",
       "1          2  6 am - 10 am        6           D04  Kingsbridge Rd      Bx   \n",
       "2          3   10 am - 2pm        6           D04  Kingsbridge Rd      Bx   \n",
       "3          4   2 pm - 6 pm        6           D04  Kingsbridge Rd      Bx   \n",
       "4          5  6 pm - 10 pm        6           D04  Kingsbridge Rd      Bx   \n",
       "\n",
       "   GTFS Latitude GTFS Longitude               station_id  \\\n",
       "0      40.866978     -73.893509  Kingsbridge RdConcourse   \n",
       "1      40.866978     -73.893509  Kingsbridge RdConcourse   \n",
       "2      40.866978     -73.893509  Kingsbridge RdConcourse   \n",
       "3      40.866978     -73.893509  Kingsbridge RdConcourse   \n",
       "4      40.866978     -73.893509  Kingsbridge RdConcourse   \n",
       "\n",
       "                                         points  \n",
       "0  POINT (-5388659.980590556 2328013.221235313)  \n",
       "1  POINT (-5388659.980590556 2328013.221235313)  \n",
       "2  POINT (-5388659.980590556 2328013.221235313)  \n",
       "3  POINT (-5388659.980590556 2328013.221235313)  \n",
       "4  POINT (-5388659.980590556 2328013.221235313)  \n",
       "\n",
       "[5 rows x 35 columns]"
      ]
     },
     "execution_count": 11,
     "metadata": {},
     "output_type": "execute_result"
    }
   ],
   "source": [
    "turns_pts = pd.merge(turns, lat_longs, how='left', on=['GTFS Latitude', 'GTFS Longitude'])\n",
    "turns_pts.head()"
   ]
  },
  {
   "cell_type": "code",
<<<<<<< HEAD
   "execution_count": null,
   "metadata": {
    "collapsed": true
   },
=======
   "execution_count": 15,
   "metadata": {},
>>>>>>> 77fa8c85cd0219cf209429b2ede88a41596a45cc
   "outputs": [],
   "source": [
    "# Write out to CSV for Tableau testing \n",
    "turns_pts.to_csv('zipfile_test/turns_locations.csv', index=False)"
   ]
  },
  {
   "cell_type": "markdown",
   "metadata": {},
   "source": [
    "Find points within certain radius"
   ]
  },
  {
   "cell_type": "code",
   "execution_count": null,
   "metadata": {},
   "outputs": [],
   "source": [
    "#central_pt = turns_pts.loc[0, 'points']\n",
    "#print(central_pt)"
   ]
  },
  {
   "cell_type": "markdown",
   "metadata": {
    "collapsed": true
   },
   "source": [
    "## Try plotting points on map"
   ]
  },
  {
   "cell_type": "code",
   "execution_count": 16,
   "metadata": {
    "collapsed": true
   },
   "outputs": [],
   "source": [
    "#New York City Coordinates\n",
    "NYC_COORD = [40.7128, -74.0059]\n",
    "\n",
    "# Build map \n",
    "map_nyc = folium.Map(location=NYC_COORD, zoom_start=12, \n",
    "tiles='cartodbpositron', width=640, height=480)"
   ]
  },
  {
   "cell_type": "code",
   "execution_count": null,
   "metadata": {
    "collapsed": true
   },
   "outputs": [],
   "source": []
  }
 ],
 "metadata": {
  "kernelspec": {
   "display_name": "Python 3",
   "language": "python",
   "name": "python3"
  },
  "language_info": {
   "codemirror_mode": {
    "name": "ipython",
    "version": 3
   },
   "file_extension": ".py",
   "mimetype": "text/x-python",
   "name": "python",
   "nbconvert_exporter": "python",
   "pygments_lexer": "ipython3",
   "version": "3.6.3"
  },
  "toc": {
   "nav_menu": {},
   "number_sections": true,
   "sideBar": true,
   "skip_h1_title": false,
   "title_cell": "Table of Contents",
   "title_sidebar": "Contents",
   "toc_cell": false,
   "toc_position": {},
   "toc_section_display": true,
   "toc_window_display": false
  },
  "varInspector": {
   "cols": {
    "lenName": 16,
    "lenType": 16,
    "lenVar": 40
   },
   "kernels_config": {
    "python": {
     "delete_cmd_postfix": "",
     "delete_cmd_prefix": "del ",
     "library": "var_list.py",
     "varRefreshCmd": "print(var_dic_list())"
    },
    "r": {
     "delete_cmd_postfix": ") ",
     "delete_cmd_prefix": "rm(",
     "library": "var_list.r",
     "varRefreshCmd": "cat(var_dic_list()) "
    }
   },
   "types_to_exclude": [
    "module",
    "function",
    "builtin_function_or_method",
    "instance",
    "_Feature"
   ],
   "window_display": false
  }
 },
 "nbformat": 4,
 "nbformat_minor": 2
}
