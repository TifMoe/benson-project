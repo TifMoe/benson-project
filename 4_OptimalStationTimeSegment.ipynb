{
 "cells": [
  {
   "cell_type": "markdown",
   "metadata": {},
   "source": [
    "# Find Optimal Station for Given Time Segment"
   ]
  },
  {
   "cell_type": "markdown",
   "metadata": {},
   "source": [
    "## Import Libraries"
   ]
  },
  {
   "cell_type": "code",
   "execution_count": 3,
   "metadata": {},
   "outputs": [
    {
     "name": "stdout",
     "output_type": "stream",
     "text": [
      "Python Version: 3.6.3 |Anaconda, Inc.| (default, Oct  6 2017, 12:04:38) \n",
      "[GCC 4.2.1 Compatible Clang 4.0.1 (tags/RELEASE_401/final)]\n",
      "Pandas Version: 0.20.3\n",
      "Numpy Version: 1.14.0\n"
     ]
    }
   ],
   "source": [
    "import pandas as pd\n",
    "import numpy as np\n",
    "import sys\n",
    "\n",
    "print(\"Python Version:\", sys.version)\n",
    "print(\"Pandas Version:\", pd.__version__)\n",
    "print(\"Numpy Version:\", np.__version__)"
   ]
  },
  {
   "cell_type": "markdown",
   "metadata": {},
   "source": [
    "## Read in turnstile data with locations\n",
    "(This was pickled in notebook 2_FindingStationLocations)"
   ]
  },
  {
   "cell_type": "code",
   "execution_count": 10,
   "metadata": {},
   "outputs": [],
   "source": [
    "df = pd.read_pickle('data/turns_data_locations.pkl')"
   ]
  },
  {
   "cell_type": "code",
   "execution_count": 11,
   "metadata": {},
   "outputs": [
    {
     "name": "stdout",
     "output_type": "stream",
     "text": [
      "Weekdays [6 0 1 2 3 4 5]\n",
      "Hour Blocks [1 2 3 4 5 6]\n",
      "Hour Block Strings ['12am - 4am' '4am - 8am' '8am - 12pm' '12pm - 4pm' '4pm - 8pm'\n",
      " '8pm - 12am']\n"
     ]
    }
   ],
   "source": [
    "print('Weekdays', df['wkdaynbr'].unique())\n",
    "print('Hour Blocks', df['timegroup'].unique())\n",
    "print('Hour Block Strings', df['timegroupstr'].unique())\n"
   ]
  },
  {
   "cell_type": "markdown",
   "metadata": {},
   "source": [
    "## Find station with daily avg highest frequency entries for given segment"
   ]
  },
  {
   "cell_type": "code",
   "execution_count": 12,
   "metadata": {},
   "outputs": [
    {
     "data": {
      "text/html": [
       "<div>\n",
       "<style>\n",
       "    .dataframe thead tr:only-child th {\n",
       "        text-align: right;\n",
       "    }\n",
       "\n",
       "    .dataframe thead th {\n",
       "        text-align: left;\n",
       "    }\n",
       "\n",
       "    .dataframe tbody tr th {\n",
       "        vertical-align: top;\n",
       "    }\n",
       "</style>\n",
       "<table border=\"1\" class=\"dataframe\">\n",
       "  <thead>\n",
       "    <tr style=\"text-align: right;\">\n",
       "      <th></th>\n",
       "      <th>station_id</th>\n",
       "      <th>wkdaynbr</th>\n",
       "      <th>timegroup</th>\n",
       "      <th>timegroupstr</th>\n",
       "      <th>date</th>\n",
       "      <th>entries_diff</th>\n",
       "    </tr>\n",
       "  </thead>\n",
       "  <tbody>\n",
       "    <tr>\n",
       "      <th>0</th>\n",
       "      <td>1 AvCanarsie</td>\n",
       "      <td>0</td>\n",
       "      <td>1</td>\n",
       "      <td>12am - 4am</td>\n",
       "      <td>03/26/2017</td>\n",
       "      <td>1766.0</td>\n",
       "    </tr>\n",
       "    <tr>\n",
       "      <th>1</th>\n",
       "      <td>1 AvCanarsie</td>\n",
       "      <td>0</td>\n",
       "      <td>1</td>\n",
       "      <td>12am - 4am</td>\n",
       "      <td>03/27/2016</td>\n",
       "      <td>1732.0</td>\n",
       "    </tr>\n",
       "    <tr>\n",
       "      <th>2</th>\n",
       "      <td>1 AvCanarsie</td>\n",
       "      <td>0</td>\n",
       "      <td>1</td>\n",
       "      <td>12am - 4am</td>\n",
       "      <td>04/02/2017</td>\n",
       "      <td>1804.0</td>\n",
       "    </tr>\n",
       "    <tr>\n",
       "      <th>3</th>\n",
       "      <td>1 AvCanarsie</td>\n",
       "      <td>0</td>\n",
       "      <td>1</td>\n",
       "      <td>12am - 4am</td>\n",
       "      <td>04/03/2016</td>\n",
       "      <td>2249.0</td>\n",
       "    </tr>\n",
       "    <tr>\n",
       "      <th>4</th>\n",
       "      <td>1 AvCanarsie</td>\n",
       "      <td>0</td>\n",
       "      <td>1</td>\n",
       "      <td>12am - 4am</td>\n",
       "      <td>04/09/2017</td>\n",
       "      <td>1515.0</td>\n",
       "    </tr>\n",
       "  </tbody>\n",
       "</table>\n",
       "</div>"
      ],
      "text/plain": [
       "     station_id  wkdaynbr  timegroup timegroupstr        date  entries_diff\n",
       "0  1 AvCanarsie         0          1   12am - 4am  03/26/2017        1766.0\n",
       "1  1 AvCanarsie         0          1   12am - 4am  03/27/2016        1732.0\n",
       "2  1 AvCanarsie         0          1   12am - 4am  04/02/2017        1804.0\n",
       "3  1 AvCanarsie         0          1   12am - 4am  04/03/2016        2249.0\n",
       "4  1 AvCanarsie         0          1   12am - 4am  04/09/2017        1515.0"
      ]
     },
     "execution_count": 12,
     "metadata": {},
     "output_type": "execute_result"
    }
   ],
   "source": [
    "daily_sum = df.groupby(['station_id', 'wkdaynbr', 'timegroup', 'timegroupstr', 'date'], as_index = False)['entries_diff'].sum()\n",
    "daily_sum.head()"
   ]
  },
  {
   "cell_type": "code",
   "execution_count": 13,
   "metadata": {},
   "outputs": [
    {
     "data": {
      "text/html": [
       "<div>\n",
       "<style>\n",
       "    .dataframe thead tr:only-child th {\n",
       "        text-align: right;\n",
       "    }\n",
       "\n",
       "    .dataframe thead th {\n",
       "        text-align: left;\n",
       "    }\n",
       "\n",
       "    .dataframe tbody tr th {\n",
       "        vertical-align: top;\n",
       "    }\n",
       "</style>\n",
       "<table border=\"1\" class=\"dataframe\">\n",
       "  <thead>\n",
       "    <tr style=\"text-align: right;\">\n",
       "      <th></th>\n",
       "      <th>station_id</th>\n",
       "      <th>wkdaynbr</th>\n",
       "      <th>timegroup</th>\n",
       "      <th>timegroupstr</th>\n",
       "      <th>entries_diff</th>\n",
       "    </tr>\n",
       "  </thead>\n",
       "  <tbody>\n",
       "    <tr>\n",
       "      <th>17158</th>\n",
       "      <td>Times Sq - 42 StBroadway - 7Av</td>\n",
       "      <td>3</td>\n",
       "      <td>5</td>\n",
       "      <td>4pm - 8pm</td>\n",
       "      <td>38475.214286</td>\n",
       "    </tr>\n",
       "    <tr>\n",
       "      <th>17164</th>\n",
       "      <td>Times Sq - 42 StBroadway - 7Av</td>\n",
       "      <td>4</td>\n",
       "      <td>5</td>\n",
       "      <td>4pm - 8pm</td>\n",
       "      <td>37161.107143</td>\n",
       "    </tr>\n",
       "    <tr>\n",
       "      <th>17152</th>\n",
       "      <td>Times Sq - 42 StBroadway - 7Av</td>\n",
       "      <td>2</td>\n",
       "      <td>5</td>\n",
       "      <td>4pm - 8pm</td>\n",
       "      <td>36247.750000</td>\n",
       "    </tr>\n",
       "    <tr>\n",
       "      <th>17170</th>\n",
       "      <td>Times Sq - 42 StBroadway - 7Av</td>\n",
       "      <td>5</td>\n",
       "      <td>5</td>\n",
       "      <td>4pm - 8pm</td>\n",
       "      <td>35110.928571</td>\n",
       "    </tr>\n",
       "    <tr>\n",
       "      <th>17146</th>\n",
       "      <td>Times Sq - 42 StBroadway - 7Av</td>\n",
       "      <td>1</td>\n",
       "      <td>5</td>\n",
       "      <td>4pm - 8pm</td>\n",
       "      <td>34557.678571</td>\n",
       "    </tr>\n",
       "    <tr>\n",
       "      <th>3562</th>\n",
       "      <td>34 St - Herald SqBroadway - Brighton</td>\n",
       "      <td>5</td>\n",
       "      <td>5</td>\n",
       "      <td>4pm - 8pm</td>\n",
       "      <td>32560.285714</td>\n",
       "    </tr>\n",
       "    <tr>\n",
       "      <th>3544</th>\n",
       "      <td>34 St - Herald SqBroadway - Brighton</td>\n",
       "      <td>2</td>\n",
       "      <td>5</td>\n",
       "      <td>4pm - 8pm</td>\n",
       "      <td>31674.500000</td>\n",
       "    </tr>\n",
       "    <tr>\n",
       "      <th>3556</th>\n",
       "      <td>34 St - Herald SqBroadway - Brighton</td>\n",
       "      <td>4</td>\n",
       "      <td>5</td>\n",
       "      <td>4pm - 8pm</td>\n",
       "      <td>31613.535714</td>\n",
       "    </tr>\n",
       "    <tr>\n",
       "      <th>3550</th>\n",
       "      <td>34 St - Herald SqBroadway - Brighton</td>\n",
       "      <td>3</td>\n",
       "      <td>5</td>\n",
       "      <td>4pm - 8pm</td>\n",
       "      <td>31566.107143</td>\n",
       "    </tr>\n",
       "    <tr>\n",
       "      <th>12166</th>\n",
       "      <td>Grand Central - 42 StLexington - Shuttle</td>\n",
       "      <td>4</td>\n",
       "      <td>5</td>\n",
       "      <td>4pm - 8pm</td>\n",
       "      <td>31192.607143</td>\n",
       "    </tr>\n",
       "  </tbody>\n",
       "</table>\n",
       "</div>"
      ],
      "text/plain": [
       "                                     station_id  wkdaynbr  timegroup  \\\n",
       "17158            Times Sq - 42 StBroadway - 7Av         3          5   \n",
       "17164            Times Sq - 42 StBroadway - 7Av         4          5   \n",
       "17152            Times Sq - 42 StBroadway - 7Av         2          5   \n",
       "17170            Times Sq - 42 StBroadway - 7Av         5          5   \n",
       "17146            Times Sq - 42 StBroadway - 7Av         1          5   \n",
       "3562       34 St - Herald SqBroadway - Brighton         5          5   \n",
       "3544       34 St - Herald SqBroadway - Brighton         2          5   \n",
       "3556       34 St - Herald SqBroadway - Brighton         4          5   \n",
       "3550       34 St - Herald SqBroadway - Brighton         3          5   \n",
       "12166  Grand Central - 42 StLexington - Shuttle         4          5   \n",
       "\n",
       "      timegroupstr  entries_diff  \n",
       "17158    4pm - 8pm  38475.214286  \n",
       "17164    4pm - 8pm  37161.107143  \n",
       "17152    4pm - 8pm  36247.750000  \n",
       "17170    4pm - 8pm  35110.928571  \n",
       "17146    4pm - 8pm  34557.678571  \n",
       "3562     4pm - 8pm  32560.285714  \n",
       "3544     4pm - 8pm  31674.500000  \n",
       "3556     4pm - 8pm  31613.535714  \n",
       "3550     4pm - 8pm  31566.107143  \n",
       "12166    4pm - 8pm  31192.607143  "
      ]
     },
     "execution_count": 13,
     "metadata": {},
     "output_type": "execute_result"
    }
   ],
   "source": [
    "daily_avg = daily_sum.groupby(['station_id', 'wkdaynbr', 'timegroup', 'timegroupstr'], as_index = False)['entries_diff'].mean()\n",
    "daily_avg.sort_values(by='entries_diff', ascending=False, inplace=True)\n",
    "daily_avg.head(10)"
   ]
  },
  {
   "cell_type": "code",
   "execution_count": 14,
   "metadata": {
    "collapsed": true
   },
   "outputs": [],
   "source": [
    "def find_optimal_station(time, day, df=daily_avg):\n",
    "    \n",
    "    subset = df[(df['wkdaynbr']==day) & (df['timegroup']==time)].sort_values(by='entries_diff', ascending=False)\n",
    "    subset.reset_index(drop=True, inplace=True)\n",
    "    print(subset.head(1))\n",
    "    \n",
    "    station = subset.loc[0, 'station_id']\n",
    "    daily_avg = subset.loc[0, 'entries_diff']\n",
    "    \n",
    "    return station, daily_avg"
   ]
  },
  {
   "cell_type": "code",
   "execution_count": 15,
   "metadata": {},
   "outputs": [
    {
     "name": "stdout",
     "output_type": "stream",
     "text": [
      "                       station_id  wkdaynbr  timegroup timegroupstr  \\\n",
      "0  Times Sq - 42 StBroadway - 7Av         3          5    4pm - 8pm   \n",
      "\n",
      "   entries_diff  \n",
      "0  38475.214286  \n"
     ]
    },
    {
     "data": {
      "text/plain": [
       "('Times Sq - 42 StBroadway - 7Av', 38475.21428571428)"
      ]
     },
     "execution_count": 15,
     "metadata": {},
     "output_type": "execute_result"
    }
   ],
   "source": [
    "find_optimal_station(5, 3)"
   ]
  },
  {
   "cell_type": "code",
   "execution_count": 21,
   "metadata": {},
   "outputs": [
    {
     "data": {
      "text/html": [
       "<div>\n",
       "<style>\n",
       "    .dataframe thead tr:only-child th {\n",
       "        text-align: right;\n",
       "    }\n",
       "\n",
       "    .dataframe thead th {\n",
       "        text-align: left;\n",
       "    }\n",
       "\n",
       "    .dataframe tbody tr th {\n",
       "        vertical-align: top;\n",
       "    }\n",
       "</style>\n",
       "<table border=\"1\" class=\"dataframe\">\n",
       "  <thead>\n",
       "    <tr style=\"text-align: right;\">\n",
       "      <th></th>\n",
       "      <th>wkdaynbr</th>\n",
       "      <th>timegroup</th>\n",
       "      <th>entries_diff</th>\n",
       "    </tr>\n",
       "  </thead>\n",
       "  <tbody>\n",
       "    <tr>\n",
       "      <th>0</th>\n",
       "      <td>0</td>\n",
       "      <td>1</td>\n",
       "      <td>13868.285714</td>\n",
       "    </tr>\n",
       "    <tr>\n",
       "      <th>1</th>\n",
       "      <td>0</td>\n",
       "      <td>2</td>\n",
       "      <td>3109.214286</td>\n",
       "    </tr>\n",
       "    <tr>\n",
       "      <th>2</th>\n",
       "      <td>0</td>\n",
       "      <td>3</td>\n",
       "      <td>8294.500000</td>\n",
       "    </tr>\n",
       "    <tr>\n",
       "      <th>3</th>\n",
       "      <td>0</td>\n",
       "      <td>4</td>\n",
       "      <td>15516.500000</td>\n",
       "    </tr>\n",
       "    <tr>\n",
       "      <th>4</th>\n",
       "      <td>0</td>\n",
       "      <td>5</td>\n",
       "      <td>20478.250000</td>\n",
       "    </tr>\n",
       "  </tbody>\n",
       "</table>\n",
       "</div>"
      ],
      "text/plain": [
       "   wkdaynbr  timegroup  entries_diff\n",
       "0         0          1  13868.285714\n",
       "1         0          2   3109.214286\n",
       "2         0          3   8294.500000\n",
       "3         0          4  15516.500000\n",
       "4         0          5  20478.250000"
      ]
     },
     "execution_count": 21,
     "metadata": {},
     "output_type": "execute_result"
    }
   ],
   "source": [
    "max_avg = daily_avg.groupby(['wkdaynbr', 'timegroup'], as_index=False)['entries_diff'].max()\n",
    "max_avg.head()"
   ]
  },
  {
   "cell_type": "code",
   "execution_count": 22,
   "metadata": {
    "collapsed": true
   },
   "outputs": [],
   "source": [
    "optimized = pd.merge(max_avg, daily_avg, how='inner', on=['wkdaynbr', 'timegroup', 'entries_diff'])\n",
    "optimized.sort_values(by='entries_diff', ascending=False, inplace=True)"
   ]
  },
  {
   "cell_type": "code",
   "execution_count": 28,
   "metadata": {},
   "outputs": [
    {
     "name": "stdout",
     "output_type": "stream",
     "text": [
      "Length of optimized station time df: 42\n"
     ]
    },
    {
     "data": {
      "text/html": [
       "<div>\n",
       "<style>\n",
       "    .dataframe thead tr:only-child th {\n",
       "        text-align: right;\n",
       "    }\n",
       "\n",
       "    .dataframe thead th {\n",
       "        text-align: left;\n",
       "    }\n",
       "\n",
       "    .dataframe tbody tr th {\n",
       "        vertical-align: top;\n",
       "    }\n",
       "</style>\n",
       "<table border=\"1\" class=\"dataframe\">\n",
       "  <thead>\n",
       "    <tr style=\"text-align: right;\">\n",
       "      <th></th>\n",
       "      <th>wkdaynbr</th>\n",
       "      <th>timegroup</th>\n",
       "      <th>entries_diff</th>\n",
       "      <th>station_id</th>\n",
       "      <th>timegroupstr</th>\n",
       "    </tr>\n",
       "  </thead>\n",
       "  <tbody>\n",
       "    <tr>\n",
       "      <th>22</th>\n",
       "      <td>3</td>\n",
       "      <td>5</td>\n",
       "      <td>38475.214286</td>\n",
       "      <td>Times Sq - 42 StBroadway - 7Av</td>\n",
       "      <td>4pm - 8pm</td>\n",
       "    </tr>\n",
       "    <tr>\n",
       "      <th>28</th>\n",
       "      <td>4</td>\n",
       "      <td>5</td>\n",
       "      <td>37161.107143</td>\n",
       "      <td>Times Sq - 42 StBroadway - 7Av</td>\n",
       "      <td>4pm - 8pm</td>\n",
       "    </tr>\n",
       "    <tr>\n",
       "      <th>16</th>\n",
       "      <td>2</td>\n",
       "      <td>5</td>\n",
       "      <td>36247.750000</td>\n",
       "      <td>Times Sq - 42 StBroadway - 7Av</td>\n",
       "      <td>4pm - 8pm</td>\n",
       "    </tr>\n",
       "    <tr>\n",
       "      <th>34</th>\n",
       "      <td>5</td>\n",
       "      <td>5</td>\n",
       "      <td>35110.928571</td>\n",
       "      <td>Times Sq - 42 StBroadway - 7Av</td>\n",
       "      <td>4pm - 8pm</td>\n",
       "    </tr>\n",
       "    <tr>\n",
       "      <th>10</th>\n",
       "      <td>1</td>\n",
       "      <td>5</td>\n",
       "      <td>34557.678571</td>\n",
       "      <td>Times Sq - 42 StBroadway - 7Av</td>\n",
       "      <td>4pm - 8pm</td>\n",
       "    </tr>\n",
       "  </tbody>\n",
       "</table>\n",
       "</div>"
      ],
      "text/plain": [
       "    wkdaynbr  timegroup  entries_diff                      station_id  \\\n",
       "22         3          5  38475.214286  Times Sq - 42 StBroadway - 7Av   \n",
       "28         4          5  37161.107143  Times Sq - 42 StBroadway - 7Av   \n",
       "16         2          5  36247.750000  Times Sq - 42 StBroadway - 7Av   \n",
       "34         5          5  35110.928571  Times Sq - 42 StBroadway - 7Av   \n",
       "10         1          5  34557.678571  Times Sq - 42 StBroadway - 7Av   \n",
       "\n",
       "   timegroupstr  \n",
       "22    4pm - 8pm  \n",
       "28    4pm - 8pm  \n",
       "16    4pm - 8pm  \n",
       "34    4pm - 8pm  \n",
       "10    4pm - 8pm  "
      ]
     },
     "execution_count": 28,
     "metadata": {},
     "output_type": "execute_result"
    }
   ],
   "source": [
    "print('Length of optimized station time df:', len(optimized))\n",
    "optimized.head()"
   ]
  },
  {
   "cell_type": "markdown",
   "metadata": {},
   "source": [
    "Write out as csv for visualization in Tableau"
   ]
  },
  {
   "cell_type": "code",
   "execution_count": 27,
   "metadata": {
    "collapsed": true
   },
   "outputs": [],
   "source": [
    "optimized.to_csv('data/optimized_segment.csv', index=False)"
   ]
  },
  {
   "cell_type": "code",
   "execution_count": null,
   "metadata": {
    "collapsed": true
   },
   "outputs": [],
   "source": []
  }
 ],
 "metadata": {
  "kernelspec": {
   "display_name": "Python 3",
   "language": "python",
   "name": "python3"
  },
  "language_info": {
   "codemirror_mode": {
    "name": "ipython",
    "version": 3
   },
   "file_extension": ".py",
   "mimetype": "text/x-python",
   "name": "python",
   "nbconvert_exporter": "python",
   "pygments_lexer": "ipython3",
   "version": "3.6.3"
  },
  "toc": {
   "nav_menu": {},
   "number_sections": true,
   "sideBar": true,
   "skip_h1_title": false,
   "title_cell": "Table of Contents",
   "title_sidebar": "Contents",
   "toc_cell": false,
   "toc_position": {},
   "toc_section_display": true,
   "toc_window_display": false
  },
  "varInspector": {
   "cols": {
    "lenName": 16,
    "lenType": 16,
    "lenVar": 40
   },
   "kernels_config": {
    "python": {
     "delete_cmd_postfix": "",
     "delete_cmd_prefix": "del ",
     "library": "var_list.py",
     "varRefreshCmd": "print(var_dic_list())"
    },
    "r": {
     "delete_cmd_postfix": ") ",
     "delete_cmd_prefix": "rm(",
     "library": "var_list.r",
     "varRefreshCmd": "cat(var_dic_list()) "
    }
   },
   "types_to_exclude": [
    "module",
    "function",
    "builtin_function_or_method",
    "instance",
    "_Feature"
   ],
   "window_display": false
  }
 },
 "nbformat": 4,
 "nbformat_minor": 2
}
